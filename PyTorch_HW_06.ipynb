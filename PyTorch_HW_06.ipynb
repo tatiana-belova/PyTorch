{
 "cells": [
  {
   "cell_type": "markdown",
   "id": "14c4e0ad",
   "metadata": {},
   "source": [
    "# Домашнее задание №6 - Нейросети в обработке текста\n",
    "\n",
    "- Самостоятельно обучить классификатор текстов на примере 20newsgroups\n",
    "\n",
    "- На примере 20 newsgroups попробовать разные параметры для сверток для классификации текстов"
   ]
  },
  {
   "cell_type": "code",
   "execution_count": 67,
   "id": "26c653f3",
   "metadata": {},
   "outputs": [],
   "source": [
    "import random, re, glob\n",
    "import numpy as np\n",
    "import pandas as pd\n",
    "import torch\n",
    "import torch.nn as nn\n",
    "from functools import lru_cache\n",
    "from tqdm.notebook import tqdm"
   ]
  },
  {
   "cell_type": "code",
   "execution_count": 63,
   "id": "ee574212",
   "metadata": {},
   "outputs": [],
   "source": [
    "fields = ['newsgroup', 'document_id', 'from', 'subject', 'archive-name', 'last-modified']\n",
    "\n",
    "def parse_file(path):\n",
    "    path = path.replace('\\\\', '/')\n",
    "    newsgroup=path.rsplit('/', 1)[1].rsplit('.', 1)[0]\n",
    "    print(f\"Читаем {path}, newsgroup {newsgroup}\")\n",
    "    res = []\n",
    "    header=False\n",
    "    with open(path, 'r') as fd:\n",
    "        for line in fd:\n",
    "            m = re.match(fr\"({'|'.join(fields)}):\\s*(\\S.*)\", line, re.I)\n",
    "            if m:\n",
    "                if not header:\n",
    "                    res.append({ 'text': '', **dict((f, '') for f in fields) })\n",
    "                    res[-1]['newsgroup'] = newsgroup\n",
    "                    header = True\n",
    "                res[-1][m.group(1).lower()] = m.group(2)\n",
    "            else:\n",
    "                if header:\n",
    "                    if line.strip() and not re.match(fr\"[\\w\\-]+:.*\", line, re.I):\n",
    "                        header = False\n",
    "                if not header:\n",
    "                    res[-1]['text'] += line\n",
    "    return res\n",
    "\n",
    "@lru_cache()\n",
    "def parse_directory(path):\n",
    "    return pd.DataFrame([ r for f in glob.glob(path + '/*.txt') for r in parse_file(f) ])      \n"
   ]
  },
  {
   "cell_type": "code",
   "execution_count": 74,
   "id": "765636fc",
   "metadata": {},
   "outputs": [
    {
     "name": "stdout",
     "output_type": "stream",
     "text": [
      "Подготовка текста ...\n"
     ]
    },
    {
     "data": {
      "application/vnd.jupyter.widget-view+json": {
       "model_id": "e1ae36fc4fd34f54aa003e87fcd36c37",
       "version_major": 2,
       "version_minor": 0
      },
      "text/plain": [
       "  0%|          | 0/39675 [00:00<?, ?it/s]"
      ]
     },
     "metadata": {},
     "output_type": "display_data"
    },
    {
     "name": "stdout",
     "output_type": "stream",
     "text": [
      "Преобразование в индексы ...\n",
      "Dataset подготовлен\n"
     ]
    }
   ],
   "source": [
    "from string import punctuation\n",
    "from stop_words import get_stop_words\n",
    "from pymorphy2 import MorphAnalyzer\n",
    "\n",
    "from collections import Counter\n",
    "\n",
    "class Dataset(torch.utils.data.Dataset):\n",
    "    \n",
    "    \n",
    "    def __init__(self, data_path):\n",
    "        df = parse_directory(data_path)\n",
    "\n",
    "        self.labels_i2w = df['newsgroup'].unique() \n",
    "        self.labels_w2i = dict( (w, i) for i, w in enumerate(self.labels_i2w) )\n",
    "        self.labels = df['newsgroup'].apply(lambda ng: self.labels_w2i[ng]).tolist()\n",
    "        \n",
    "        sw = set(get_stop_words(\"en\"))\n",
    "        exclude = set(punctuation)\n",
    "        morpher = MorphAnalyzer()\n",
    "\n",
    "        def preprocess(txt):\n",
    "            txt = ''.join(c for c in txt if c not in exclude)\n",
    "            txt = txt.lower()\n",
    "            return [morpher.parse(word)[0].normal_form for word in txt.split() if word and word not in sw] # удалить пустые сразу\n",
    "\n",
    "        print('Подготовка текста ...')\n",
    "        texts = [preprocess(txt) for txt in tqdm(df['text'].tolist())]\n",
    "        \n",
    "        print('Преобразование в индексы ...')\n",
    "        words = [w for w, c in Counter(w for txt in texts for w in txt).items() if c > 10]\n",
    "        \n",
    "        self.words_i2w = ['', '__UNK__'] + words\n",
    "        self.words_w2i = w2i = dict( (w, i) for i, w in enumerate(self.words_i2w) )\n",
    "        \n",
    "        max_length = min(max([len(txt) for txt in texts]), 1024)\n",
    "        \n",
    "        self.length = max_length\n",
    "       \n",
    "        texts = [[w2i.get(w, w2i['__UNK__']) for w in txt] for txt in texts]\n",
    "        self.texts = [ torch.tensor(txt[:max_length] + [0] * (max_length - len(txt))) for txt in texts ]\n",
    "\n",
    "        assert(len(self.texts) == len(self.labels))\n",
    "        \n",
    "        print('Dataset подготовлен')\n",
    "        \n",
    "        \n",
    "    def __len__(self):\n",
    "        return len(self.texts)\n",
    "    \n",
    "    def __getitem__(self, idx):\n",
    "        return self.texts[idx], self.labels[idx]\n",
    "\n",
    "ds = Dataset('./20newsgroups')"
   ]
  },
  {
   "cell_type": "code",
   "execution_count": 80,
   "id": "9e8f3233",
   "metadata": {},
   "outputs": [],
   "source": [
    "from sklearn.model_selection import train_test_split \n",
    "\n",
    "ds_train, ds_val = train_test_split(ds, test_size=0.1, random_state=7)"
   ]
  },
  {
   "cell_type": "code",
   "execution_count": 90,
   "id": "5d202899",
   "metadata": {},
   "outputs": [],
   "source": [
    "def evaluate(net, ds):\n",
    "    dl = torch.utils.data.DataLoader(ds, batch_size=128, shuffle=False)\n",
    "    loss = nn.CrossEntropyLoss(reduction='sum')\n",
    "    net.eval()\n",
    "    total_loss = 0\n",
    "    count = 0\n",
    "    matches = 0\n",
    "    for X, y in dl:\n",
    "        count += len(y)\n",
    "        preds = net(X)\n",
    "        total_loss += float(loss(preds, y)) # очень важно преобразовать во float здесь, иначе утекает память !!!\n",
    "        pred_classes = torch.argmax(preds, dim=1)\n",
    "        matches += int(sum(pred_classes == y))\n",
    "    return float(total_loss/count), float(matches/count), count\n",
    "\n",
    "\n",
    "def train_and_test(net, ds_train, ds_val, optimizer_class=torch.optim.Adam, n_epochs=10, lr=0.01, report_on=-1, batch_size=1024):\n",
    "    \n",
    "    print('========================================================')\n",
    "   \n",
    "    params = [ p for p in net.parameters() if p.requires_grad]\n",
    "    print('Число обучаемых параметров', len(params))\n",
    "    optimizer = optimizer_class(params, lr=0.01)\n",
    "    print(' Оптимизатор: ', optimizer)\n",
    "\n",
    "    def print_results():\n",
    "        for title, ds in [\n",
    "#                ('Тренировочный', ds_train), # слишком долго для resnet \n",
    "                ('Валидационный', ds_val)\n",
    "            ]:\n",
    "            r = evaluate(net, ds)\n",
    "            print(f\"    {title} набор: кросс-энтропия: {r[0]:.2f}, доля совпадений: {r[1]*100:.1f}%\")\n",
    "        return r\n",
    "    \n",
    "    print(' До обучения:')\n",
    "    print_results()\n",
    "    \n",
    "    dl_train = torch.utils.data.DataLoader(ds_train, batch_size=batch_size)\n",
    "    criterion = nn.CrossEntropyLoss()    \n",
    "\n",
    "    net.train()\n",
    "    report_on = max(len(dl_train) if report_on == -1 else report_on, 1)\n",
    "    for epoch in range(n_epochs):\n",
    "        print('--------- Эпоха ', epoch, '/', n_epochs, ' ------------------')\n",
    "        running_loss = 0.0\n",
    "        for i, data in enumerate(tqdm(dl_train)):\n",
    "            inputs, labels = data[0], data[1]\n",
    "\n",
    "            # обнуляем градиент\n",
    "            optimizer.zero_grad()\n",
    "\n",
    "            outputs = net(inputs)\n",
    "            loss = criterion(outputs, labels)\n",
    "            loss.backward()\n",
    "            optimizer.step()\n",
    "\n",
    "            # выводим статистику о процессе обучения\n",
    "            running_loss += loss.item()\n",
    "            if (i+1) % report_on == 0:    # печатаем каждые report_on mini-batches\n",
    "                print('Выучено батчей : %5d; loss: %.3f' % (i + 1, running_loss / report_on))\n",
    "                running_loss = 0.0\n",
    "                \n",
    "    print(' Обучение закончено!')\n",
    "    print(' После обучения:')\n",
    "    return print_results()"
   ]
  },
  {
   "cell_type": "code",
   "execution_count": 84,
   "id": "d865cbe1",
   "metadata": {},
   "outputs": [],
   "source": [
    "class Net(nn.Module):\n",
    "    def __init__(self, num_classes, vocab_size, embedding_dim = 128, linear_dim = 256, kernel_size=3):\n",
    "        super().__init__()\n",
    "        self.embedding = nn.Embedding(vocab_size, embedding_dim, padding_idx=0)\n",
    "        self.conv = nn.Conv1d(embedding_dim, linear_dim, kernel_size=kernel_size)\n",
    "        self.relu = nn.ReLU()\n",
    "        self.linear = nn.Linear(linear_dim, num_classes)\n",
    "        \n",
    "    def forward(self, x):        \n",
    "        output = self.embedding(x)\n",
    "        #                       B  F  L         \n",
    "        output = output.permute(0, 2, 1)\n",
    "        output = self.conv(output)\n",
    "        output = self.relu(output)\n",
    "        output = torch.max(output, axis=2).values\n",
    "        output = self.linear(output)\n",
    "        \n",
    "        return output   "
   ]
  },
  {
   "cell_type": "code",
   "execution_count": 83,
   "id": "432eabc9",
   "metadata": {},
   "outputs": [
    {
     "name": "stdout",
     "output_type": "stream",
     "text": [
      "========================================================\n",
      "Число обучаемых параметров 5\n",
      " Оптимизатор:  Adam (\n",
      "Parameter Group 0\n",
      "    amsgrad: False\n",
      "    betas: (0.9, 0.999)\n",
      "    eps: 1e-08\n",
      "    lr: 0.01\n",
      "    weight_decay: 0\n",
      ")\n",
      " До обучения\n",
      "    Валидационный набор: кросс-энтропия: 3.32, доля совпадений: 5.3%\n",
      "--------- Эпоха  0 / 10  ------------------\n"
     ]
    },
    {
     "data": {
      "application/vnd.jupyter.widget-view+json": {
       "model_id": "dab8851353064b018857027af11f9181",
       "version_major": 2,
       "version_minor": 0
      },
      "text/plain": [
       "  0%|          | 0/35 [00:00<?, ?it/s]"
      ]
     },
     "metadata": {},
     "output_type": "display_data"
    },
    {
     "name": "stdout",
     "output_type": "stream",
     "text": [
      "Выучено батчей :    35; loss: 2.538\n",
      "--------- Эпоха  1 / 10  ------------------\n"
     ]
    },
    {
     "data": {
      "application/vnd.jupyter.widget-view+json": {
       "model_id": "0c28c58b99504c1e97c97404ab312d77",
       "version_major": 2,
       "version_minor": 0
      },
      "text/plain": [
       "  0%|          | 0/35 [00:00<?, ?it/s]"
      ]
     },
     "metadata": {},
     "output_type": "display_data"
    },
    {
     "name": "stdout",
     "output_type": "stream",
     "text": [
      "Выучено батчей :    35; loss: 0.505\n",
      "--------- Эпоха  2 / 10  ------------------\n"
     ]
    },
    {
     "data": {
      "application/vnd.jupyter.widget-view+json": {
       "model_id": "1443509214ca46a6ab232f442cf5a7f8",
       "version_major": 2,
       "version_minor": 0
      },
      "text/plain": [
       "  0%|          | 0/35 [00:00<?, ?it/s]"
      ]
     },
     "metadata": {},
     "output_type": "display_data"
    },
    {
     "name": "stdout",
     "output_type": "stream",
     "text": [
      "Выучено батчей :    35; loss: 0.072\n",
      "--------- Эпоха  3 / 10  ------------------\n"
     ]
    },
    {
     "data": {
      "application/vnd.jupyter.widget-view+json": {
       "model_id": "a77c0e77cc7e42ed93f51efb98f039c7",
       "version_major": 2,
       "version_minor": 0
      },
      "text/plain": [
       "  0%|          | 0/35 [00:00<?, ?it/s]"
      ]
     },
     "metadata": {},
     "output_type": "display_data"
    },
    {
     "name": "stdout",
     "output_type": "stream",
     "text": [
      "Выучено батчей :    35; loss: 0.022\n",
      "--------- Эпоха  4 / 10  ------------------\n"
     ]
    },
    {
     "data": {
      "application/vnd.jupyter.widget-view+json": {
       "model_id": "d2ccaae0836f41d186107c250c56b0be",
       "version_major": 2,
       "version_minor": 0
      },
      "text/plain": [
       "  0%|          | 0/35 [00:00<?, ?it/s]"
      ]
     },
     "metadata": {},
     "output_type": "display_data"
    },
    {
     "name": "stdout",
     "output_type": "stream",
     "text": [
      "Выучено батчей :    35; loss: 0.016\n",
      "--------- Эпоха  5 / 10  ------------------\n"
     ]
    },
    {
     "data": {
      "application/vnd.jupyter.widget-view+json": {
       "model_id": "6727c09f86f141b6aac9196a741e58c3",
       "version_major": 2,
       "version_minor": 0
      },
      "text/plain": [
       "  0%|          | 0/35 [00:00<?, ?it/s]"
      ]
     },
     "metadata": {},
     "output_type": "display_data"
    },
    {
     "name": "stdout",
     "output_type": "stream",
     "text": [
      "Выучено батчей :    35; loss: 0.014\n",
      "--------- Эпоха  6 / 10  ------------------\n"
     ]
    },
    {
     "data": {
      "application/vnd.jupyter.widget-view+json": {
       "model_id": "57b1b65853a94296b414b8c1603d7da5",
       "version_major": 2,
       "version_minor": 0
      },
      "text/plain": [
       "  0%|          | 0/35 [00:00<?, ?it/s]"
      ]
     },
     "metadata": {},
     "output_type": "display_data"
    },
    {
     "name": "stdout",
     "output_type": "stream",
     "text": [
      "Выучено батчей :    35; loss: 0.013\n",
      "--------- Эпоха  7 / 10  ------------------\n"
     ]
    },
    {
     "data": {
      "application/vnd.jupyter.widget-view+json": {
       "model_id": "24a5da1ff7524ef0a601a20d1bd4c911",
       "version_major": 2,
       "version_minor": 0
      },
      "text/plain": [
       "  0%|          | 0/35 [00:00<?, ?it/s]"
      ]
     },
     "metadata": {},
     "output_type": "display_data"
    },
    {
     "name": "stdout",
     "output_type": "stream",
     "text": [
      "Выучено батчей :    35; loss: 0.013\n",
      "--------- Эпоха  8 / 10  ------------------\n"
     ]
    },
    {
     "data": {
      "application/vnd.jupyter.widget-view+json": {
       "model_id": "ce40113b3a3c4920a4008f0d2a07f0fd",
       "version_major": 2,
       "version_minor": 0
      },
      "text/plain": [
       "  0%|          | 0/35 [00:00<?, ?it/s]"
      ]
     },
     "metadata": {},
     "output_type": "display_data"
    },
    {
     "name": "stdout",
     "output_type": "stream",
     "text": [
      "Выучено батчей :    35; loss: 0.012\n",
      "--------- Эпоха  9 / 10  ------------------\n"
     ]
    },
    {
     "data": {
      "application/vnd.jupyter.widget-view+json": {
       "model_id": "c86f4fc77ee0495ca59ae12635126f8f",
       "version_major": 2,
       "version_minor": 0
      },
      "text/plain": [
       "  0%|          | 0/35 [00:00<?, ?it/s]"
      ]
     },
     "metadata": {},
     "output_type": "display_data"
    },
    {
     "name": "stdout",
     "output_type": "stream",
     "text": [
      "Выучено батчей :    35; loss: 0.013\n",
      " Обучение закончено!\n",
      " После обучения\n",
      "    Валидационный набор: кросс-энтропия: 0.07, доля совпадений: 98.2%\n"
     ]
    }
   ],
   "source": [
    "net = Net(20, len(ds.words_i2w))\n",
    "train_and_test(net, ds_train, ds_val)"
   ]
  },
  {
   "cell_type": "code",
   "execution_count": 85,
   "id": "4d02a521",
   "metadata": {},
   "outputs": [],
   "source": [
    "results = [{ 'embedding_dim': 128, 'linear_dim': 256, 'kernel_size': 3, 'net': net, 'result': evaluate(net, ds_val) }] # сохраним обученный net, остальное в цикле ниже\n"
   ]
  },
  {
   "cell_type": "code",
   "execution_count": 87,
   "id": "cf10766d",
   "metadata": {},
   "outputs": [
    {
     "name": "stdout",
     "output_type": "stream",
     "text": [
      "########################################################################\n",
      "embedding_dim = 128, linear_dim = 256, kernel_size = 2\n",
      "========================================================\n",
      "Число обучаемых параметров 5\n",
      " Оптимизатор:  Adam (\n",
      "Parameter Group 0\n",
      "    amsgrad: False\n",
      "    betas: (0.9, 0.999)\n",
      "    eps: 1e-08\n",
      "    lr: 0.01\n",
      "    weight_decay: 0\n",
      ")\n",
      " До обучения\n",
      "    Валидационный набор: кросс-энтропия: 3.33, доля совпадений: 4.7%\n",
      "--------- Эпоха  0 / 10  ------------------\n"
     ]
    },
    {
     "data": {
      "application/vnd.jupyter.widget-view+json": {
       "model_id": "1f08a58d6dc44d50a2f1a807fc151e0a",
       "version_major": 2,
       "version_minor": 0
      },
      "text/plain": [
       "  0%|          | 0/35 [00:00<?, ?it/s]"
      ]
     },
     "metadata": {},
     "output_type": "display_data"
    },
    {
     "name": "stdout",
     "output_type": "stream",
     "text": [
      "Выучено батчей :    35; loss: 2.455\n",
      "--------- Эпоха  1 / 10  ------------------\n"
     ]
    },
    {
     "data": {
      "application/vnd.jupyter.widget-view+json": {
       "model_id": "fc96557f117945e2b8ea80a610945d5e",
       "version_major": 2,
       "version_minor": 0
      },
      "text/plain": [
       "  0%|          | 0/35 [00:00<?, ?it/s]"
      ]
     },
     "metadata": {},
     "output_type": "display_data"
    },
    {
     "name": "stdout",
     "output_type": "stream",
     "text": [
      "Выучено батчей :    35; loss: 0.573\n",
      "--------- Эпоха  2 / 10  ------------------\n"
     ]
    },
    {
     "data": {
      "application/vnd.jupyter.widget-view+json": {
       "model_id": "6153ef80b8934ac9a466021c4e0adea6",
       "version_major": 2,
       "version_minor": 0
      },
      "text/plain": [
       "  0%|          | 0/35 [00:00<?, ?it/s]"
      ]
     },
     "metadata": {},
     "output_type": "display_data"
    },
    {
     "name": "stdout",
     "output_type": "stream",
     "text": [
      "Выучено батчей :    35; loss: 0.119\n",
      "--------- Эпоха  3 / 10  ------------------\n"
     ]
    },
    {
     "data": {
      "application/vnd.jupyter.widget-view+json": {
       "model_id": "f7ef0f37a9e74e40bc11664469b74dcf",
       "version_major": 2,
       "version_minor": 0
      },
      "text/plain": [
       "  0%|          | 0/35 [00:00<?, ?it/s]"
      ]
     },
     "metadata": {},
     "output_type": "display_data"
    },
    {
     "name": "stdout",
     "output_type": "stream",
     "text": [
      "Выучено батчей :    35; loss: 0.029\n",
      "--------- Эпоха  4 / 10  ------------------\n"
     ]
    },
    {
     "data": {
      "application/vnd.jupyter.widget-view+json": {
       "model_id": "4d2fecda7d6d4aacb7f3bf16d367b487",
       "version_major": 2,
       "version_minor": 0
      },
      "text/plain": [
       "  0%|          | 0/35 [00:00<?, ?it/s]"
      ]
     },
     "metadata": {},
     "output_type": "display_data"
    },
    {
     "name": "stdout",
     "output_type": "stream",
     "text": [
      "Выучено батчей :    35; loss: 0.015\n",
      "--------- Эпоха  5 / 10  ------------------\n"
     ]
    },
    {
     "data": {
      "application/vnd.jupyter.widget-view+json": {
       "model_id": "52ca8a0f0d63402ba7d5a322e8d1d5e9",
       "version_major": 2,
       "version_minor": 0
      },
      "text/plain": [
       "  0%|          | 0/35 [00:00<?, ?it/s]"
      ]
     },
     "metadata": {},
     "output_type": "display_data"
    },
    {
     "name": "stdout",
     "output_type": "stream",
     "text": [
      "Выучено батчей :    35; loss: 0.012\n",
      "--------- Эпоха  6 / 10  ------------------\n"
     ]
    },
    {
     "data": {
      "application/vnd.jupyter.widget-view+json": {
       "model_id": "99182285051e4401b586149f4bb43bad",
       "version_major": 2,
       "version_minor": 0
      },
      "text/plain": [
       "  0%|          | 0/35 [00:00<?, ?it/s]"
      ]
     },
     "metadata": {},
     "output_type": "display_data"
    },
    {
     "name": "stdout",
     "output_type": "stream",
     "text": [
      "Выучено батчей :    35; loss: 0.011\n",
      "--------- Эпоха  7 / 10  ------------------\n"
     ]
    },
    {
     "data": {
      "application/vnd.jupyter.widget-view+json": {
       "model_id": "b211805dbc004b438f37bcf00a65a4e1",
       "version_major": 2,
       "version_minor": 0
      },
      "text/plain": [
       "  0%|          | 0/35 [00:00<?, ?it/s]"
      ]
     },
     "metadata": {},
     "output_type": "display_data"
    },
    {
     "name": "stdout",
     "output_type": "stream",
     "text": [
      "Выучено батчей :    35; loss: 0.011\n",
      "--------- Эпоха  8 / 10  ------------------\n"
     ]
    },
    {
     "data": {
      "application/vnd.jupyter.widget-view+json": {
       "model_id": "5f1b7cdedb9c48068edc300336d5db64",
       "version_major": 2,
       "version_minor": 0
      },
      "text/plain": [
       "  0%|          | 0/35 [00:00<?, ?it/s]"
      ]
     },
     "metadata": {},
     "output_type": "display_data"
    },
    {
     "name": "stdout",
     "output_type": "stream",
     "text": [
      "Выучено батчей :    35; loss: 0.011\n",
      "--------- Эпоха  9 / 10  ------------------\n"
     ]
    },
    {
     "data": {
      "application/vnd.jupyter.widget-view+json": {
       "model_id": "f666289311374a3393a59f89abaa27b2",
       "version_major": 2,
       "version_minor": 0
      },
      "text/plain": [
       "  0%|          | 0/35 [00:00<?, ?it/s]"
      ]
     },
     "metadata": {},
     "output_type": "display_data"
    },
    {
     "name": "stdout",
     "output_type": "stream",
     "text": [
      "Выучено батчей :    35; loss: 0.010\n",
      " Обучение закончено!\n",
      " После обучения\n",
      "    Валидационный набор: кросс-энтропия: 0.08, доля совпадений: 98.3%\n",
      "########################################################################\n",
      "embedding_dim = 128, linear_dim = 256, kernel_size = 5\n",
      "========================================================\n",
      "Число обучаемых параметров 5\n",
      " Оптимизатор:  Adam (\n",
      "Parameter Group 0\n",
      "    amsgrad: False\n",
      "    betas: (0.9, 0.999)\n",
      "    eps: 1e-08\n",
      "    lr: 0.01\n",
      "    weight_decay: 0\n",
      ")\n",
      " До обучения\n",
      "    Валидационный набор: кросс-энтропия: 3.16, доля совпадений: 5.3%\n",
      "--------- Эпоха  0 / 10  ------------------\n"
     ]
    },
    {
     "data": {
      "application/vnd.jupyter.widget-view+json": {
       "model_id": "a5e59c2d8a2349d38e342108e9644977",
       "version_major": 2,
       "version_minor": 0
      },
      "text/plain": [
       "  0%|          | 0/35 [00:00<?, ?it/s]"
      ]
     },
     "metadata": {},
     "output_type": "display_data"
    },
    {
     "name": "stdout",
     "output_type": "stream",
     "text": [
      "Выучено батчей :    35; loss: 2.237\n",
      "--------- Эпоха  1 / 10  ------------------\n"
     ]
    },
    {
     "data": {
      "application/vnd.jupyter.widget-view+json": {
       "model_id": "d1a99bff0e544182ac3f3c1c2ca1862c",
       "version_major": 2,
       "version_minor": 0
      },
      "text/plain": [
       "  0%|          | 0/35 [00:00<?, ?it/s]"
      ]
     },
     "metadata": {},
     "output_type": "display_data"
    },
    {
     "name": "stdout",
     "output_type": "stream",
     "text": [
      "Выучено батчей :    35; loss: 0.486\n",
      "--------- Эпоха  2 / 10  ------------------\n"
     ]
    },
    {
     "data": {
      "application/vnd.jupyter.widget-view+json": {
       "model_id": "40a09234d01b48f4880c125dfaf40686",
       "version_major": 2,
       "version_minor": 0
      },
      "text/plain": [
       "  0%|          | 0/35 [00:00<?, ?it/s]"
      ]
     },
     "metadata": {},
     "output_type": "display_data"
    },
    {
     "name": "stdout",
     "output_type": "stream",
     "text": [
      "Выучено батчей :    35; loss: 0.088\n",
      "--------- Эпоха  3 / 10  ------------------\n"
     ]
    },
    {
     "data": {
      "application/vnd.jupyter.widget-view+json": {
       "model_id": "7a8725fac7714d64a7123456e7bd115a",
       "version_major": 2,
       "version_minor": 0
      },
      "text/plain": [
       "  0%|          | 0/35 [00:00<?, ?it/s]"
      ]
     },
     "metadata": {},
     "output_type": "display_data"
    },
    {
     "name": "stdout",
     "output_type": "stream",
     "text": [
      "Выучено батчей :    35; loss: 0.023\n",
      "--------- Эпоха  4 / 10  ------------------\n"
     ]
    },
    {
     "data": {
      "application/vnd.jupyter.widget-view+json": {
       "model_id": "448ea1d26a66447da1373fdcaf0dee2e",
       "version_major": 2,
       "version_minor": 0
      },
      "text/plain": [
       "  0%|          | 0/35 [00:00<?, ?it/s]"
      ]
     },
     "metadata": {},
     "output_type": "display_data"
    },
    {
     "name": "stdout",
     "output_type": "stream",
     "text": [
      "Выучено батчей :    35; loss: 0.015\n",
      "--------- Эпоха  5 / 10  ------------------\n"
     ]
    },
    {
     "data": {
      "application/vnd.jupyter.widget-view+json": {
       "model_id": "52a02413f69e499db02b2c6f5f17f715",
       "version_major": 2,
       "version_minor": 0
      },
      "text/plain": [
       "  0%|          | 0/35 [00:00<?, ?it/s]"
      ]
     },
     "metadata": {},
     "output_type": "display_data"
    },
    {
     "name": "stdout",
     "output_type": "stream",
     "text": [
      "Выучено батчей :    35; loss: 0.013\n",
      "--------- Эпоха  6 / 10  ------------------\n"
     ]
    },
    {
     "data": {
      "application/vnd.jupyter.widget-view+json": {
       "model_id": "135b379239354443aa1e9d0e8202498f",
       "version_major": 2,
       "version_minor": 0
      },
      "text/plain": [
       "  0%|          | 0/35 [00:00<?, ?it/s]"
      ]
     },
     "metadata": {},
     "output_type": "display_data"
    },
    {
     "name": "stdout",
     "output_type": "stream",
     "text": [
      "Выучено батчей :    35; loss: 0.012\n",
      "--------- Эпоха  7 / 10  ------------------\n"
     ]
    },
    {
     "data": {
      "application/vnd.jupyter.widget-view+json": {
       "model_id": "530f284f402b4d6cb3e0e560273f254f",
       "version_major": 2,
       "version_minor": 0
      },
      "text/plain": [
       "  0%|          | 0/35 [00:00<?, ?it/s]"
      ]
     },
     "metadata": {},
     "output_type": "display_data"
    },
    {
     "name": "stdout",
     "output_type": "stream",
     "text": [
      "Выучено батчей :    35; loss: 0.012\n",
      "--------- Эпоха  8 / 10  ------------------\n"
     ]
    },
    {
     "data": {
      "application/vnd.jupyter.widget-view+json": {
       "model_id": "83cbbbee3cfb4d20be31e9838e0772af",
       "version_major": 2,
       "version_minor": 0
      },
      "text/plain": [
       "  0%|          | 0/35 [00:00<?, ?it/s]"
      ]
     },
     "metadata": {},
     "output_type": "display_data"
    },
    {
     "name": "stdout",
     "output_type": "stream",
     "text": [
      "Выучено батчей :    35; loss: 0.011\n",
      "--------- Эпоха  9 / 10  ------------------\n"
     ]
    },
    {
     "data": {
      "application/vnd.jupyter.widget-view+json": {
       "model_id": "b5ac297927ac48b18dd7ed6d90ebff8e",
       "version_major": 2,
       "version_minor": 0
      },
      "text/plain": [
       "  0%|          | 0/35 [00:00<?, ?it/s]"
      ]
     },
     "metadata": {},
     "output_type": "display_data"
    },
    {
     "name": "stdout",
     "output_type": "stream",
     "text": [
      "Выучено батчей :    35; loss: 0.011\n",
      " Обучение закончено!\n",
      " После обучения\n",
      "    Валидационный набор: кросс-энтропия: 0.07, доля совпадений: 98.3%\n",
      "########################################################################\n",
      "embedding_dim = 128, linear_dim = 256, kernel_size = 7\n",
      "========================================================\n",
      "Число обучаемых параметров 5\n",
      " Оптимизатор:  Adam (\n",
      "Parameter Group 0\n",
      "    amsgrad: False\n",
      "    betas: (0.9, 0.999)\n",
      "    eps: 1e-08\n",
      "    lr: 0.01\n",
      "    weight_decay: 0\n",
      ")\n",
      " До обучения\n",
      "    Валидационный набор: кросс-энтропия: 3.66, доля совпадений: 5.2%\n",
      "--------- Эпоха  0 / 10  ------------------\n"
     ]
    },
    {
     "data": {
      "application/vnd.jupyter.widget-view+json": {
       "model_id": "4f9ad5d416a1456db96931294efc9c51",
       "version_major": 2,
       "version_minor": 0
      },
      "text/plain": [
       "  0%|          | 0/35 [00:00<?, ?it/s]"
      ]
     },
     "metadata": {},
     "output_type": "display_data"
    },
    {
     "name": "stdout",
     "output_type": "stream",
     "text": [
      "Выучено батчей :    35; loss: 2.525\n",
      "--------- Эпоха  1 / 10  ------------------\n"
     ]
    },
    {
     "data": {
      "application/vnd.jupyter.widget-view+json": {
       "model_id": "0fb856cf320c46e28710111c943ee91a",
       "version_major": 2,
       "version_minor": 0
      },
      "text/plain": [
       "  0%|          | 0/35 [00:00<?, ?it/s]"
      ]
     },
     "metadata": {},
     "output_type": "display_data"
    },
    {
     "name": "stdout",
     "output_type": "stream",
     "text": [
      "Выучено батчей :    35; loss: 0.588\n",
      "--------- Эпоха  2 / 10  ------------------\n"
     ]
    },
    {
     "data": {
      "application/vnd.jupyter.widget-view+json": {
       "model_id": "16eadb9c85cc472e9c62364dbfd2253d",
       "version_major": 2,
       "version_minor": 0
      },
      "text/plain": [
       "  0%|          | 0/35 [00:00<?, ?it/s]"
      ]
     },
     "metadata": {},
     "output_type": "display_data"
    },
    {
     "name": "stdout",
     "output_type": "stream",
     "text": [
      "Выучено батчей :    35; loss: 0.111\n",
      "--------- Эпоха  3 / 10  ------------------\n"
     ]
    },
    {
     "data": {
      "application/vnd.jupyter.widget-view+json": {
       "model_id": "f5abe535505046909e7f05b196d82786",
       "version_major": 2,
       "version_minor": 0
      },
      "text/plain": [
       "  0%|          | 0/35 [00:00<?, ?it/s]"
      ]
     },
     "metadata": {},
     "output_type": "display_data"
    },
    {
     "name": "stdout",
     "output_type": "stream",
     "text": [
      "Выучено батчей :    35; loss: 0.026\n",
      "--------- Эпоха  4 / 10  ------------------\n"
     ]
    },
    {
     "data": {
      "application/vnd.jupyter.widget-view+json": {
       "model_id": "59ca035a7a394a85b024d74ccdab12da",
       "version_major": 2,
       "version_minor": 0
      },
      "text/plain": [
       "  0%|          | 0/35 [00:00<?, ?it/s]"
      ]
     },
     "metadata": {},
     "output_type": "display_data"
    },
    {
     "name": "stdout",
     "output_type": "stream",
     "text": [
      "Выучено батчей :    35; loss: 0.014\n",
      "--------- Эпоха  5 / 10  ------------------\n"
     ]
    },
    {
     "data": {
      "application/vnd.jupyter.widget-view+json": {
       "model_id": "94ab39b64f31487f95415732105d7c0d",
       "version_major": 2,
       "version_minor": 0
      },
      "text/plain": [
       "  0%|          | 0/35 [00:00<?, ?it/s]"
      ]
     },
     "metadata": {},
     "output_type": "display_data"
    },
    {
     "name": "stdout",
     "output_type": "stream",
     "text": [
      "Выучено батчей :    35; loss: 0.012\n",
      "--------- Эпоха  6 / 10  ------------------\n"
     ]
    },
    {
     "data": {
      "application/vnd.jupyter.widget-view+json": {
       "model_id": "49d0aafc7f474c1ea1ac38d7bbb00d08",
       "version_major": 2,
       "version_minor": 0
      },
      "text/plain": [
       "  0%|          | 0/35 [00:00<?, ?it/s]"
      ]
     },
     "metadata": {},
     "output_type": "display_data"
    },
    {
     "name": "stdout",
     "output_type": "stream",
     "text": [
      "Выучено батчей :    35; loss: 0.012\n",
      "--------- Эпоха  7 / 10  ------------------\n"
     ]
    },
    {
     "data": {
      "application/vnd.jupyter.widget-view+json": {
       "model_id": "6f2d2724286c427c8f51bbca51987858",
       "version_major": 2,
       "version_minor": 0
      },
      "text/plain": [
       "  0%|          | 0/35 [00:00<?, ?it/s]"
      ]
     },
     "metadata": {},
     "output_type": "display_data"
    },
    {
     "name": "stdout",
     "output_type": "stream",
     "text": [
      "Выучено батчей :    35; loss: 0.011\n",
      "--------- Эпоха  8 / 10  ------------------\n"
     ]
    },
    {
     "data": {
      "application/vnd.jupyter.widget-view+json": {
       "model_id": "0ddf3be32f7b451c86c5ed08c5eee294",
       "version_major": 2,
       "version_minor": 0
      },
      "text/plain": [
       "  0%|          | 0/35 [00:00<?, ?it/s]"
      ]
     },
     "metadata": {},
     "output_type": "display_data"
    },
    {
     "name": "stdout",
     "output_type": "stream",
     "text": [
      "Выучено батчей :    35; loss: 0.011\n",
      "--------- Эпоха  9 / 10  ------------------\n"
     ]
    },
    {
     "data": {
      "application/vnd.jupyter.widget-view+json": {
       "model_id": "d22d322e0dae422da77280fa3dfb6708",
       "version_major": 2,
       "version_minor": 0
      },
      "text/plain": [
       "  0%|          | 0/35 [00:00<?, ?it/s]"
      ]
     },
     "metadata": {},
     "output_type": "display_data"
    },
    {
     "name": "stdout",
     "output_type": "stream",
     "text": [
      "Выучено батчей :    35; loss: 0.011\n",
      " Обучение закончено!\n",
      " После обучения\n",
      "    Валидационный набор: кросс-энтропия: 0.08, доля совпадений: 98.3%\n",
      "########################################################################\n",
      "embedding_dim = 128, linear_dim = 128, kernel_size = 3\n",
      "========================================================\n",
      "Число обучаемых параметров 5\n",
      " Оптимизатор:  Adam (\n",
      "Parameter Group 0\n",
      "    amsgrad: False\n",
      "    betas: (0.9, 0.999)\n",
      "    eps: 1e-08\n",
      "    lr: 0.01\n",
      "    weight_decay: 0\n",
      ")\n",
      " До обучения\n",
      "    Валидационный набор: кросс-энтропия: 3.40, доля совпадений: 5.2%\n",
      "--------- Эпоха  0 / 10  ------------------\n"
     ]
    },
    {
     "data": {
      "application/vnd.jupyter.widget-view+json": {
       "model_id": "9f129265011d4c9bafc047995ebc2f63",
       "version_major": 2,
       "version_minor": 0
      },
      "text/plain": [
       "  0%|          | 0/35 [00:00<?, ?it/s]"
      ]
     },
     "metadata": {},
     "output_type": "display_data"
    },
    {
     "name": "stdout",
     "output_type": "stream",
     "text": [
      "Выучено батчей :    35; loss: 2.561\n",
      "--------- Эпоха  1 / 10  ------------------\n"
     ]
    },
    {
     "data": {
      "application/vnd.jupyter.widget-view+json": {
       "model_id": "027ca314285f43ee8340dfeca61b14cc",
       "version_major": 2,
       "version_minor": 0
      },
      "text/plain": [
       "  0%|          | 0/35 [00:00<?, ?it/s]"
      ]
     },
     "metadata": {},
     "output_type": "display_data"
    },
    {
     "name": "stdout",
     "output_type": "stream",
     "text": [
      "Выучено батчей :    35; loss: 0.601\n",
      "--------- Эпоха  2 / 10  ------------------\n"
     ]
    },
    {
     "data": {
      "application/vnd.jupyter.widget-view+json": {
       "model_id": "d8a034b65bd841509e8e3f2c9adb41f5",
       "version_major": 2,
       "version_minor": 0
      },
      "text/plain": [
       "  0%|          | 0/35 [00:00<?, ?it/s]"
      ]
     },
     "metadata": {},
     "output_type": "display_data"
    },
    {
     "name": "stdout",
     "output_type": "stream",
     "text": [
      "Выучено батчей :    35; loss: 0.110\n",
      "--------- Эпоха  3 / 10  ------------------\n"
     ]
    },
    {
     "data": {
      "application/vnd.jupyter.widget-view+json": {
       "model_id": "b9098b2f54304ff8b58471e79319eb43",
       "version_major": 2,
       "version_minor": 0
      },
      "text/plain": [
       "  0%|          | 0/35 [00:00<?, ?it/s]"
      ]
     },
     "metadata": {},
     "output_type": "display_data"
    },
    {
     "name": "stdout",
     "output_type": "stream",
     "text": [
      "Выучено батчей :    35; loss: 0.026\n",
      "--------- Эпоха  4 / 10  ------------------\n"
     ]
    },
    {
     "data": {
      "application/vnd.jupyter.widget-view+json": {
       "model_id": "766b775827524b3cab6bfad8b4f6f200",
       "version_major": 2,
       "version_minor": 0
      },
      "text/plain": [
       "  0%|          | 0/35 [00:00<?, ?it/s]"
      ]
     },
     "metadata": {},
     "output_type": "display_data"
    },
    {
     "name": "stdout",
     "output_type": "stream",
     "text": [
      "Выучено батчей :    35; loss: 0.015\n",
      "--------- Эпоха  5 / 10  ------------------\n"
     ]
    },
    {
     "data": {
      "application/vnd.jupyter.widget-view+json": {
       "model_id": "02c47e4a527c4ebb89e7f792de01e4e1",
       "version_major": 2,
       "version_minor": 0
      },
      "text/plain": [
       "  0%|          | 0/35 [00:00<?, ?it/s]"
      ]
     },
     "metadata": {},
     "output_type": "display_data"
    },
    {
     "name": "stdout",
     "output_type": "stream",
     "text": [
      "Выучено батчей :    35; loss: 0.013\n",
      "--------- Эпоха  6 / 10  ------------------\n"
     ]
    },
    {
     "data": {
      "application/vnd.jupyter.widget-view+json": {
       "model_id": "28725bde7afb4d7d9a3c615e4e003c5f",
       "version_major": 2,
       "version_minor": 0
      },
      "text/plain": [
       "  0%|          | 0/35 [00:00<?, ?it/s]"
      ]
     },
     "metadata": {},
     "output_type": "display_data"
    },
    {
     "name": "stdout",
     "output_type": "stream",
     "text": [
      "Выучено батчей :    35; loss: 0.011\n",
      "--------- Эпоха  7 / 10  ------------------\n"
     ]
    },
    {
     "data": {
      "application/vnd.jupyter.widget-view+json": {
       "model_id": "c6804da566f241c6b13bf35264665d3e",
       "version_major": 2,
       "version_minor": 0
      },
      "text/plain": [
       "  0%|          | 0/35 [00:00<?, ?it/s]"
      ]
     },
     "metadata": {},
     "output_type": "display_data"
    },
    {
     "name": "stdout",
     "output_type": "stream",
     "text": [
      "Выучено батчей :    35; loss: 0.011\n",
      "--------- Эпоха  8 / 10  ------------------\n"
     ]
    },
    {
     "data": {
      "application/vnd.jupyter.widget-view+json": {
       "model_id": "a037674f37d0481ebd2ed85e82ba8491",
       "version_major": 2,
       "version_minor": 0
      },
      "text/plain": [
       "  0%|          | 0/35 [00:00<?, ?it/s]"
      ]
     },
     "metadata": {},
     "output_type": "display_data"
    },
    {
     "name": "stdout",
     "output_type": "stream",
     "text": [
      "Выучено батчей :    35; loss: 0.011\n",
      "--------- Эпоха  9 / 10  ------------------\n"
     ]
    },
    {
     "data": {
      "application/vnd.jupyter.widget-view+json": {
       "model_id": "b617c07bebdd4f58b25a2489ed5a5928",
       "version_major": 2,
       "version_minor": 0
      },
      "text/plain": [
       "  0%|          | 0/35 [00:00<?, ?it/s]"
      ]
     },
     "metadata": {},
     "output_type": "display_data"
    },
    {
     "name": "stdout",
     "output_type": "stream",
     "text": [
      "Выучено батчей :    35; loss: 0.011\n",
      " Обучение закончено!\n",
      " После обучения\n",
      "    Валидационный набор: кросс-энтропия: 0.07, доля совпадений: 98.3%\n",
      "########################################################################\n",
      "embedding_dim = 128, linear_dim = 256, kernel_size = 3\n",
      "========================================================\n",
      "Число обучаемых параметров 5\n",
      " Оптимизатор:  Adam (\n",
      "Parameter Group 0\n",
      "    amsgrad: False\n",
      "    betas: (0.9, 0.999)\n",
      "    eps: 1e-08\n",
      "    lr: 0.01\n",
      "    weight_decay: 0\n",
      ")\n",
      " До обучения\n",
      "    Валидационный набор: кросс-энтропия: 3.34, доля совпадений: 5.0%\n",
      "--------- Эпоха  0 / 10  ------------------\n"
     ]
    },
    {
     "data": {
      "application/vnd.jupyter.widget-view+json": {
       "model_id": "dbd9feb07b2348bc88ea3f621dc75347",
       "version_major": 2,
       "version_minor": 0
      },
      "text/plain": [
       "  0%|          | 0/35 [00:00<?, ?it/s]"
      ]
     },
     "metadata": {},
     "output_type": "display_data"
    },
    {
     "name": "stdout",
     "output_type": "stream",
     "text": [
      "Выучено батчей :    35; loss: 2.640\n",
      "--------- Эпоха  1 / 10  ------------------\n"
     ]
    },
    {
     "data": {
      "application/vnd.jupyter.widget-view+json": {
       "model_id": "8ff93e6982654a56abd79a3a621a3125",
       "version_major": 2,
       "version_minor": 0
      },
      "text/plain": [
       "  0%|          | 0/35 [00:00<?, ?it/s]"
      ]
     },
     "metadata": {},
     "output_type": "display_data"
    },
    {
     "name": "stdout",
     "output_type": "stream",
     "text": [
      "Выучено батчей :    35; loss: 0.625\n",
      "--------- Эпоха  2 / 10  ------------------\n"
     ]
    },
    {
     "data": {
      "application/vnd.jupyter.widget-view+json": {
       "model_id": "c51e6d9e60444abfb3f44cb2baf2eee3",
       "version_major": 2,
       "version_minor": 0
      },
      "text/plain": [
       "  0%|          | 0/35 [00:00<?, ?it/s]"
      ]
     },
     "metadata": {},
     "output_type": "display_data"
    },
    {
     "name": "stdout",
     "output_type": "stream",
     "text": [
      "Выучено батчей :    35; loss: 0.117\n",
      "--------- Эпоха  3 / 10  ------------------\n"
     ]
    },
    {
     "data": {
      "application/vnd.jupyter.widget-view+json": {
       "model_id": "8139f2b81faf4e559d63fd0221433507",
       "version_major": 2,
       "version_minor": 0
      },
      "text/plain": [
       "  0%|          | 0/35 [00:00<?, ?it/s]"
      ]
     },
     "metadata": {},
     "output_type": "display_data"
    },
    {
     "name": "stdout",
     "output_type": "stream",
     "text": [
      "Выучено батчей :    35; loss: 0.028\n",
      "--------- Эпоха  4 / 10  ------------------\n"
     ]
    },
    {
     "data": {
      "application/vnd.jupyter.widget-view+json": {
       "model_id": "841d5984dac2413688eca7873aeb316d",
       "version_major": 2,
       "version_minor": 0
      },
      "text/plain": [
       "  0%|          | 0/35 [00:00<?, ?it/s]"
      ]
     },
     "metadata": {},
     "output_type": "display_data"
    },
    {
     "name": "stdout",
     "output_type": "stream",
     "text": [
      "Выучено батчей :    35; loss: 0.015\n",
      "--------- Эпоха  5 / 10  ------------------\n"
     ]
    },
    {
     "data": {
      "application/vnd.jupyter.widget-view+json": {
       "model_id": "94eda654a2524a4bae6d1a7035fb20c5",
       "version_major": 2,
       "version_minor": 0
      },
      "text/plain": [
       "  0%|          | 0/35 [00:00<?, ?it/s]"
      ]
     },
     "metadata": {},
     "output_type": "display_data"
    },
    {
     "name": "stdout",
     "output_type": "stream",
     "text": [
      "Выучено батчей :    35; loss: 0.013\n",
      "--------- Эпоха  6 / 10  ------------------\n"
     ]
    },
    {
     "data": {
      "application/vnd.jupyter.widget-view+json": {
       "model_id": "81527a45c8704abf90c115d19efdd047",
       "version_major": 2,
       "version_minor": 0
      },
      "text/plain": [
       "  0%|          | 0/35 [00:00<?, ?it/s]"
      ]
     },
     "metadata": {},
     "output_type": "display_data"
    },
    {
     "name": "stdout",
     "output_type": "stream",
     "text": [
      "Выучено батчей :    35; loss: 0.012\n",
      "--------- Эпоха  7 / 10  ------------------\n"
     ]
    },
    {
     "data": {
      "application/vnd.jupyter.widget-view+json": {
       "model_id": "1cdcb26311994714931d625dc024ce91",
       "version_major": 2,
       "version_minor": 0
      },
      "text/plain": [
       "  0%|          | 0/35 [00:00<?, ?it/s]"
      ]
     },
     "metadata": {},
     "output_type": "display_data"
    },
    {
     "name": "stdout",
     "output_type": "stream",
     "text": [
      "Выучено батчей :    35; loss: 0.012\n",
      "--------- Эпоха  8 / 10  ------------------\n"
     ]
    },
    {
     "data": {
      "application/vnd.jupyter.widget-view+json": {
       "model_id": "cc81e7cf55f84efc8c45620ca2a4aa5f",
       "version_major": 2,
       "version_minor": 0
      },
      "text/plain": [
       "  0%|          | 0/35 [00:00<?, ?it/s]"
      ]
     },
     "metadata": {},
     "output_type": "display_data"
    },
    {
     "name": "stdout",
     "output_type": "stream",
     "text": [
      "Выучено батчей :    35; loss: 0.011\n",
      "--------- Эпоха  9 / 10  ------------------\n"
     ]
    },
    {
     "data": {
      "application/vnd.jupyter.widget-view+json": {
       "model_id": "8bf81862556f4af4b2a40b624bbbcf2e",
       "version_major": 2,
       "version_minor": 0
      },
      "text/plain": [
       "  0%|          | 0/35 [00:00<?, ?it/s]"
      ]
     },
     "metadata": {},
     "output_type": "display_data"
    },
    {
     "name": "stdout",
     "output_type": "stream",
     "text": [
      "Выучено батчей :    35; loss: 0.011\n",
      " Обучение закончено!\n",
      " После обучения\n",
      "    Валидационный набор: кросс-энтропия: 0.06, доля совпадений: 98.4%\n",
      "########################################################################\n",
      "embedding_dim = 128, linear_dim = 512, kernel_size = 3\n",
      "========================================================\n",
      "Число обучаемых параметров 5\n",
      " Оптимизатор:  Adam (\n",
      "Parameter Group 0\n",
      "    amsgrad: False\n",
      "    betas: (0.9, 0.999)\n",
      "    eps: 1e-08\n",
      "    lr: 0.01\n",
      "    weight_decay: 0\n",
      ")\n",
      " До обучения\n",
      "    Валидационный набор: кросс-энтропия: 3.40, доля совпадений: 4.3%\n",
      "--------- Эпоха  0 / 10  ------------------\n"
     ]
    },
    {
     "data": {
      "application/vnd.jupyter.widget-view+json": {
       "model_id": "d6ec85fd4aed43d6a51a346c29dfd220",
       "version_major": 2,
       "version_minor": 0
      },
      "text/plain": [
       "  0%|          | 0/35 [00:00<?, ?it/s]"
      ]
     },
     "metadata": {},
     "output_type": "display_data"
    },
    {
     "name": "stdout",
     "output_type": "stream",
     "text": [
      "Выучено батчей :    35; loss: 2.435\n",
      "--------- Эпоха  1 / 10  ------------------\n"
     ]
    },
    {
     "data": {
      "application/vnd.jupyter.widget-view+json": {
       "model_id": "d19f454d3f1941cc8bcac26d8bf646bf",
       "version_major": 2,
       "version_minor": 0
      },
      "text/plain": [
       "  0%|          | 0/35 [00:00<?, ?it/s]"
      ]
     },
     "metadata": {},
     "output_type": "display_data"
    },
    {
     "name": "stdout",
     "output_type": "stream",
     "text": [
      "Выучено батчей :    35; loss: 0.567\n",
      "--------- Эпоха  2 / 10  ------------------\n"
     ]
    },
    {
     "data": {
      "application/vnd.jupyter.widget-view+json": {
       "model_id": "bf6150a95a2a4021840373d9f848d02e",
       "version_major": 2,
       "version_minor": 0
      },
      "text/plain": [
       "  0%|          | 0/35 [00:00<?, ?it/s]"
      ]
     },
     "metadata": {},
     "output_type": "display_data"
    },
    {
     "name": "stdout",
     "output_type": "stream",
     "text": [
      "Выучено батчей :    35; loss: 0.111\n",
      "--------- Эпоха  3 / 10  ------------------\n"
     ]
    },
    {
     "data": {
      "application/vnd.jupyter.widget-view+json": {
       "model_id": "0392fe30adbb44adb276fbb51ef80d12",
       "version_major": 2,
       "version_minor": 0
      },
      "text/plain": [
       "  0%|          | 0/35 [00:00<?, ?it/s]"
      ]
     },
     "metadata": {},
     "output_type": "display_data"
    },
    {
     "name": "stdout",
     "output_type": "stream",
     "text": [
      "Выучено батчей :    35; loss: 0.025\n",
      "--------- Эпоха  4 / 10  ------------------\n"
     ]
    },
    {
     "data": {
      "application/vnd.jupyter.widget-view+json": {
       "model_id": "a2f0e96b492348b0aa95d43ca7acb09e",
       "version_major": 2,
       "version_minor": 0
      },
      "text/plain": [
       "  0%|          | 0/35 [00:00<?, ?it/s]"
      ]
     },
     "metadata": {},
     "output_type": "display_data"
    },
    {
     "name": "stdout",
     "output_type": "stream",
     "text": [
      "Выучено батчей :    35; loss: 0.015\n",
      "--------- Эпоха  5 / 10  ------------------\n"
     ]
    },
    {
     "data": {
      "application/vnd.jupyter.widget-view+json": {
       "model_id": "dfbb9fe2103e4c57bb8aaf910112ce4a",
       "version_major": 2,
       "version_minor": 0
      },
      "text/plain": [
       "  0%|          | 0/35 [00:00<?, ?it/s]"
      ]
     },
     "metadata": {},
     "output_type": "display_data"
    },
    {
     "name": "stdout",
     "output_type": "stream",
     "text": [
      "Выучено батчей :    35; loss: 0.012\n",
      "--------- Эпоха  6 / 10  ------------------\n"
     ]
    },
    {
     "data": {
      "application/vnd.jupyter.widget-view+json": {
       "model_id": "139e179e4c674a24b3f87d04a8abf229",
       "version_major": 2,
       "version_minor": 0
      },
      "text/plain": [
       "  0%|          | 0/35 [00:00<?, ?it/s]"
      ]
     },
     "metadata": {},
     "output_type": "display_data"
    },
    {
     "name": "stdout",
     "output_type": "stream",
     "text": [
      "Выучено батчей :    35; loss: 0.011\n",
      "--------- Эпоха  7 / 10  ------------------\n"
     ]
    },
    {
     "data": {
      "application/vnd.jupyter.widget-view+json": {
       "model_id": "55db2efd28b447e1af88539a2dc887f4",
       "version_major": 2,
       "version_minor": 0
      },
      "text/plain": [
       "  0%|          | 0/35 [00:00<?, ?it/s]"
      ]
     },
     "metadata": {},
     "output_type": "display_data"
    },
    {
     "name": "stdout",
     "output_type": "stream",
     "text": [
      "Выучено батчей :    35; loss: 0.011\n",
      "--------- Эпоха  8 / 10  ------------------\n"
     ]
    },
    {
     "data": {
      "application/vnd.jupyter.widget-view+json": {
       "model_id": "93bab2fb44fb480ba2465de826c90984",
       "version_major": 2,
       "version_minor": 0
      },
      "text/plain": [
       "  0%|          | 0/35 [00:00<?, ?it/s]"
      ]
     },
     "metadata": {},
     "output_type": "display_data"
    },
    {
     "name": "stdout",
     "output_type": "stream",
     "text": [
      "Выучено батчей :    35; loss: 0.011\n",
      "--------- Эпоха  9 / 10  ------------------\n"
     ]
    },
    {
     "data": {
      "application/vnd.jupyter.widget-view+json": {
       "model_id": "39f62dbc50c742c8a1191fa2036dbfd7",
       "version_major": 2,
       "version_minor": 0
      },
      "text/plain": [
       "  0%|          | 0/35 [00:00<?, ?it/s]"
      ]
     },
     "metadata": {},
     "output_type": "display_data"
    },
    {
     "name": "stdout",
     "output_type": "stream",
     "text": [
      "Выучено батчей :    35; loss: 0.010\n",
      " Обучение закончено!\n",
      " После обучения\n",
      "    Валидационный набор: кросс-энтропия: 0.07, доля совпадений: 98.4%\n",
      "########################################################################\n",
      "embedding_dim = 64, linear_dim = 256, kernel_size = 3\n",
      "========================================================\n",
      "Число обучаемых параметров 5\n",
      " Оптимизатор:  Adam (\n",
      "Parameter Group 0\n",
      "    amsgrad: False\n",
      "    betas: (0.9, 0.999)\n",
      "    eps: 1e-08\n",
      "    lr: 0.01\n",
      "    weight_decay: 0\n",
      ")\n",
      " До обучения\n",
      "    Валидационный набор: кросс-энтропия: 3.41, доля совпадений: 5.2%\n",
      "--------- Эпоха  0 / 10  ------------------\n"
     ]
    },
    {
     "data": {
      "application/vnd.jupyter.widget-view+json": {
       "model_id": "555afcde9bfa47c3b0894398cacd464b",
       "version_major": 2,
       "version_minor": 0
      },
      "text/plain": [
       "  0%|          | 0/35 [00:00<?, ?it/s]"
      ]
     },
     "metadata": {},
     "output_type": "display_data"
    },
    {
     "name": "stdout",
     "output_type": "stream",
     "text": [
      "Выучено батчей :    35; loss: 2.406\n",
      "--------- Эпоха  1 / 10  ------------------\n"
     ]
    },
    {
     "data": {
      "application/vnd.jupyter.widget-view+json": {
       "model_id": "45e466a478884e01b840bcdeefd7cc1f",
       "version_major": 2,
       "version_minor": 0
      },
      "text/plain": [
       "  0%|          | 0/35 [00:00<?, ?it/s]"
      ]
     },
     "metadata": {},
     "output_type": "display_data"
    },
    {
     "name": "stdout",
     "output_type": "stream",
     "text": [
      "Выучено батчей :    35; loss: 0.549\n",
      "--------- Эпоха  2 / 10  ------------------\n"
     ]
    },
    {
     "data": {
      "application/vnd.jupyter.widget-view+json": {
       "model_id": "7fac5bcea73d46a3af53fae6521bb3ec",
       "version_major": 2,
       "version_minor": 0
      },
      "text/plain": [
       "  0%|          | 0/35 [00:00<?, ?it/s]"
      ]
     },
     "metadata": {},
     "output_type": "display_data"
    },
    {
     "name": "stdout",
     "output_type": "stream",
     "text": [
      "Выучено батчей :    35; loss: 0.099\n",
      "--------- Эпоха  3 / 10  ------------------\n"
     ]
    },
    {
     "data": {
      "application/vnd.jupyter.widget-view+json": {
       "model_id": "7438d5e435724eb78da40d9b19c3a85b",
       "version_major": 2,
       "version_minor": 0
      },
      "text/plain": [
       "  0%|          | 0/35 [00:00<?, ?it/s]"
      ]
     },
     "metadata": {},
     "output_type": "display_data"
    },
    {
     "name": "stdout",
     "output_type": "stream",
     "text": [
      "Выучено батчей :    35; loss: 0.023\n",
      "--------- Эпоха  4 / 10  ------------------\n"
     ]
    },
    {
     "data": {
      "application/vnd.jupyter.widget-view+json": {
       "model_id": "713a69a509244555b4c267933807dc4b",
       "version_major": 2,
       "version_minor": 0
      },
      "text/plain": [
       "  0%|          | 0/35 [00:00<?, ?it/s]"
      ]
     },
     "metadata": {},
     "output_type": "display_data"
    },
    {
     "name": "stdout",
     "output_type": "stream",
     "text": [
      "Выучено батчей :    35; loss: 0.015\n",
      "--------- Эпоха  5 / 10  ------------------\n"
     ]
    },
    {
     "data": {
      "application/vnd.jupyter.widget-view+json": {
       "model_id": "dec153293e3c4e45abb77b906f3ae5ff",
       "version_major": 2,
       "version_minor": 0
      },
      "text/plain": [
       "  0%|          | 0/35 [00:00<?, ?it/s]"
      ]
     },
     "metadata": {},
     "output_type": "display_data"
    },
    {
     "name": "stdout",
     "output_type": "stream",
     "text": [
      "Выучено батчей :    35; loss: 0.013\n",
      "--------- Эпоха  6 / 10  ------------------\n"
     ]
    },
    {
     "data": {
      "application/vnd.jupyter.widget-view+json": {
       "model_id": "5667b18e0d334758888f8ac967af18c7",
       "version_major": 2,
       "version_minor": 0
      },
      "text/plain": [
       "  0%|          | 0/35 [00:00<?, ?it/s]"
      ]
     },
     "metadata": {},
     "output_type": "display_data"
    },
    {
     "name": "stdout",
     "output_type": "stream",
     "text": [
      "Выучено батчей :    35; loss: 0.012\n",
      "--------- Эпоха  7 / 10  ------------------\n"
     ]
    },
    {
     "data": {
      "application/vnd.jupyter.widget-view+json": {
       "model_id": "84ab54ed96554100a8b62584adc417a6",
       "version_major": 2,
       "version_minor": 0
      },
      "text/plain": [
       "  0%|          | 0/35 [00:00<?, ?it/s]"
      ]
     },
     "metadata": {},
     "output_type": "display_data"
    },
    {
     "name": "stdout",
     "output_type": "stream",
     "text": [
      "Выучено батчей :    35; loss: 0.011\n",
      "--------- Эпоха  8 / 10  ------------------\n"
     ]
    },
    {
     "data": {
      "application/vnd.jupyter.widget-view+json": {
       "model_id": "47e5112418cd46c4ba122037a215b874",
       "version_major": 2,
       "version_minor": 0
      },
      "text/plain": [
       "  0%|          | 0/35 [00:00<?, ?it/s]"
      ]
     },
     "metadata": {},
     "output_type": "display_data"
    },
    {
     "name": "stdout",
     "output_type": "stream",
     "text": [
      "Выучено батчей :    35; loss: 0.011\n",
      "--------- Эпоха  9 / 10  ------------------\n"
     ]
    },
    {
     "data": {
      "application/vnd.jupyter.widget-view+json": {
       "model_id": "f6b1b136969c461ea5c50a311ed72e06",
       "version_major": 2,
       "version_minor": 0
      },
      "text/plain": [
       "  0%|          | 0/35 [00:00<?, ?it/s]"
      ]
     },
     "metadata": {},
     "output_type": "display_data"
    },
    {
     "name": "stdout",
     "output_type": "stream",
     "text": [
      "Выучено батчей :    35; loss: 0.011\n",
      " Обучение закончено!\n",
      " После обучения\n",
      "    Валидационный набор: кросс-энтропия: 0.07, доля совпадений: 98.5%\n",
      "########################################################################\n",
      "embedding_dim = 256, linear_dim = 256, kernel_size = 3\n",
      "========================================================\n",
      "Число обучаемых параметров 5\n",
      " Оптимизатор:  Adam (\n",
      "Parameter Group 0\n",
      "    amsgrad: False\n",
      "    betas: (0.9, 0.999)\n",
      "    eps: 1e-08\n",
      "    lr: 0.01\n",
      "    weight_decay: 0\n",
      ")\n",
      " До обучения\n",
      "    Валидационный набор: кросс-энтропия: 3.30, доля совпадений: 5.4%\n",
      "--------- Эпоха  0 / 10  ------------------\n"
     ]
    },
    {
     "data": {
      "application/vnd.jupyter.widget-view+json": {
       "model_id": "70e9c3de4f864df18d78d6a43bca60ad",
       "version_major": 2,
       "version_minor": 0
      },
      "text/plain": [
       "  0%|          | 0/35 [00:00<?, ?it/s]"
      ]
     },
     "metadata": {},
     "output_type": "display_data"
    },
    {
     "name": "stdout",
     "output_type": "stream",
     "text": [
      "Выучено батчей :    35; loss: 2.366\n",
      "--------- Эпоха  1 / 10  ------------------\n"
     ]
    },
    {
     "data": {
      "application/vnd.jupyter.widget-view+json": {
       "model_id": "ca33f16bf4714eb684ccd6794c3e24a1",
       "version_major": 2,
       "version_minor": 0
      },
      "text/plain": [
       "  0%|          | 0/35 [00:00<?, ?it/s]"
      ]
     },
     "metadata": {},
     "output_type": "display_data"
    },
    {
     "name": "stdout",
     "output_type": "stream",
     "text": [
      "Выучено батчей :    35; loss: 0.542\n",
      "--------- Эпоха  2 / 10  ------------------\n"
     ]
    },
    {
     "data": {
      "application/vnd.jupyter.widget-view+json": {
       "model_id": "5b5291ecfdfa407689723a8ab7fe239d",
       "version_major": 2,
       "version_minor": 0
      },
      "text/plain": [
       "  0%|          | 0/35 [00:00<?, ?it/s]"
      ]
     },
     "metadata": {},
     "output_type": "display_data"
    },
    {
     "name": "stdout",
     "output_type": "stream",
     "text": [
      "Выучено батчей :    35; loss: 0.101\n",
      "--------- Эпоха  3 / 10  ------------------\n"
     ]
    },
    {
     "data": {
      "application/vnd.jupyter.widget-view+json": {
       "model_id": "da733c91ecc9443ca9ca50c55a417a61",
       "version_major": 2,
       "version_minor": 0
      },
      "text/plain": [
       "  0%|          | 0/35 [00:00<?, ?it/s]"
      ]
     },
     "metadata": {},
     "output_type": "display_data"
    },
    {
     "name": "stdout",
     "output_type": "stream",
     "text": [
      "Выучено батчей :    35; loss: 0.024\n",
      "--------- Эпоха  4 / 10  ------------------\n"
     ]
    },
    {
     "data": {
      "application/vnd.jupyter.widget-view+json": {
       "model_id": "e27f66be7c1b4367aeb73140909ab15a",
       "version_major": 2,
       "version_minor": 0
      },
      "text/plain": [
       "  0%|          | 0/35 [00:00<?, ?it/s]"
      ]
     },
     "metadata": {},
     "output_type": "display_data"
    },
    {
     "name": "stdout",
     "output_type": "stream",
     "text": [
      "Выучено батчей :    35; loss: 0.016\n",
      "--------- Эпоха  5 / 10  ------------------\n"
     ]
    },
    {
     "data": {
      "application/vnd.jupyter.widget-view+json": {
       "model_id": "2d758eaec9dc498e871eb76798741bf7",
       "version_major": 2,
       "version_minor": 0
      },
      "text/plain": [
       "  0%|          | 0/35 [00:00<?, ?it/s]"
      ]
     },
     "metadata": {},
     "output_type": "display_data"
    },
    {
     "name": "stdout",
     "output_type": "stream",
     "text": [
      "Выучено батчей :    35; loss: 0.013\n",
      "--------- Эпоха  6 / 10  ------------------\n"
     ]
    },
    {
     "data": {
      "application/vnd.jupyter.widget-view+json": {
       "model_id": "a97b8e65acde44938d51b5ec6d36cf55",
       "version_major": 2,
       "version_minor": 0
      },
      "text/plain": [
       "  0%|          | 0/35 [00:00<?, ?it/s]"
      ]
     },
     "metadata": {},
     "output_type": "display_data"
    },
    {
     "name": "stdout",
     "output_type": "stream",
     "text": [
      "Выучено батчей :    35; loss: 0.012\n",
      "--------- Эпоха  7 / 10  ------------------\n"
     ]
    },
    {
     "data": {
      "application/vnd.jupyter.widget-view+json": {
       "model_id": "669d6e55af3c4ac780f856bd765ae38d",
       "version_major": 2,
       "version_minor": 0
      },
      "text/plain": [
       "  0%|          | 0/35 [00:00<?, ?it/s]"
      ]
     },
     "metadata": {},
     "output_type": "display_data"
    },
    {
     "name": "stdout",
     "output_type": "stream",
     "text": [
      "Выучено батчей :    35; loss: 0.012\n",
      "--------- Эпоха  8 / 10  ------------------\n"
     ]
    },
    {
     "data": {
      "application/vnd.jupyter.widget-view+json": {
       "model_id": "6a016f8270fc45239d0da915a78cd38a",
       "version_major": 2,
       "version_minor": 0
      },
      "text/plain": [
       "  0%|          | 0/35 [00:00<?, ?it/s]"
      ]
     },
     "metadata": {},
     "output_type": "display_data"
    },
    {
     "name": "stdout",
     "output_type": "stream",
     "text": [
      "Выучено батчей :    35; loss: 0.011\n",
      "--------- Эпоха  9 / 10  ------------------\n"
     ]
    },
    {
     "data": {
      "application/vnd.jupyter.widget-view+json": {
       "model_id": "e18d0a70afe44ce287f6788f237ce7f1",
       "version_major": 2,
       "version_minor": 0
      },
      "text/plain": [
       "  0%|          | 0/35 [00:00<?, ?it/s]"
      ]
     },
     "metadata": {},
     "output_type": "display_data"
    },
    {
     "name": "stdout",
     "output_type": "stream",
     "text": [
      "Выучено батчей :    35; loss: 0.012\n",
      " Обучение закончено!\n",
      " После обучения\n",
      "    Валидационный набор: кросс-энтропия: 0.07, доля совпадений: 98.3%\n"
     ]
    }
   ],
   "source": [
    "def create_and_test(embedding_dim=128, linear_dim=256, kernel_size=3):\n",
    "    print('########################################################################')\n",
    "    print(f\"embedding_dim = {embedding_dim}, linear_dim = {linear_dim}, kernel_size = {kernel_size}\")\n",
    "    net = Net(20, len(ds.words_i2w), kernel_size=2)\n",
    "    r = train_and_test(net, ds_train, ds_val)\n",
    "    results.append({ 'embedding_dim': embedding_dim, 'linear_dim': linear_dim, 'kernel_size': kernel_size, 'net': net, 'result': r })    \n",
    "    \n",
    "    \n",
    "for kernel_size in [2, 5, 7]:\n",
    "    create_and_test(kernel_size=kernel_size)\n",
    "\n",
    "for linear_dim in [128, 256, 512]:\n",
    "    create_and_test(linear_dim=linear_dim)\n",
    "\n",
    "for embedding_dim in [ 64, 256 ]:\n",
    "    create_and_test(embedding_dim=embedding_dim)"
   ]
  },
  {
   "cell_type": "code",
   "execution_count": 91,
   "id": "1ac549ab",
   "metadata": {},
   "outputs": [
    {
     "data": {
      "application/vnd.jupyter.widget-view+json": {
       "model_id": "872122c6379f47548ad2eb81b5ab45ff",
       "version_major": 2,
       "version_minor": 0
      },
      "text/plain": [
       "  0%|          | 0/9 [00:00<?, ?it/s]"
      ]
     },
     "metadata": {},
     "output_type": "display_data"
    },
    {
     "data": {
      "text/html": [
       "<div>\n",
       "<style scoped>\n",
       "    .dataframe tbody tr th:only-of-type {\n",
       "        vertical-align: middle;\n",
       "    }\n",
       "\n",
       "    .dataframe tbody tr th {\n",
       "        vertical-align: top;\n",
       "    }\n",
       "\n",
       "    .dataframe thead th {\n",
       "        text-align: right;\n",
       "    }\n",
       "</style>\n",
       "<table border=\"1\" class=\"dataframe\">\n",
       "  <thead>\n",
       "    <tr style=\"text-align: right;\">\n",
       "      <th></th>\n",
       "      <th>embedding_dim</th>\n",
       "      <th>linear_dim</th>\n",
       "      <th>kernel_size</th>\n",
       "      <th>net</th>\n",
       "      <th>result</th>\n",
       "    </tr>\n",
       "  </thead>\n",
       "  <tbody>\n",
       "    <tr>\n",
       "      <th>0</th>\n",
       "      <td>128</td>\n",
       "      <td>256</td>\n",
       "      <td>3</td>\n",
       "      <td>Net(\\n  (embedding): Embedding(32254, 128, pad...</td>\n",
       "      <td>(0.0724949883897939, 0.9816028225806451, 3968)</td>\n",
       "    </tr>\n",
       "    <tr>\n",
       "      <th>1</th>\n",
       "      <td>128</td>\n",
       "      <td>256</td>\n",
       "      <td>2</td>\n",
       "      <td>Net(\\n  (embedding): Embedding(32254, 128, pad...</td>\n",
       "      <td>(0.07741514596367075, 0.983366935483871, 3968)</td>\n",
       "    </tr>\n",
       "    <tr>\n",
       "      <th>2</th>\n",
       "      <td>128</td>\n",
       "      <td>256</td>\n",
       "      <td>5</td>\n",
       "      <td>Net(\\n  (embedding): Embedding(32254, 128, pad...</td>\n",
       "      <td>(0.07222905139168424, 0.9826108870967742, 3968)</td>\n",
       "    </tr>\n",
       "    <tr>\n",
       "      <th>3</th>\n",
       "      <td>128</td>\n",
       "      <td>256</td>\n",
       "      <td>7</td>\n",
       "      <td>Net(\\n  (embedding): Embedding(32254, 128, pad...</td>\n",
       "      <td>(0.07564804668448144, 0.9831149193548387, 3968)</td>\n",
       "    </tr>\n",
       "    <tr>\n",
       "      <th>4</th>\n",
       "      <td>128</td>\n",
       "      <td>128</td>\n",
       "      <td>3</td>\n",
       "      <td>Net(\\n  (embedding): Embedding(32254, 128, pad...</td>\n",
       "      <td>(0.06760406659375276, 0.9831149193548387, 3968)</td>\n",
       "    </tr>\n",
       "    <tr>\n",
       "      <th>5</th>\n",
       "      <td>128</td>\n",
       "      <td>256</td>\n",
       "      <td>3</td>\n",
       "      <td>Net(\\n  (embedding): Embedding(32254, 128, pad...</td>\n",
       "      <td>(0.06324990069673907, 0.9838709677419355, 3968)</td>\n",
       "    </tr>\n",
       "    <tr>\n",
       "      <th>6</th>\n",
       "      <td>128</td>\n",
       "      <td>512</td>\n",
       "      <td>3</td>\n",
       "      <td>Net(\\n  (embedding): Embedding(32254, 128, pad...</td>\n",
       "      <td>(0.06815058317395949, 0.9838709677419355, 3968)</td>\n",
       "    </tr>\n",
       "    <tr>\n",
       "      <th>7</th>\n",
       "      <td>64</td>\n",
       "      <td>256</td>\n",
       "      <td>3</td>\n",
       "      <td>Net(\\n  (embedding): Embedding(32254, 128, pad...</td>\n",
       "      <td>(0.06880994937232425, 0.9848790322580645, 3968)</td>\n",
       "    </tr>\n",
       "    <tr>\n",
       "      <th>8</th>\n",
       "      <td>256</td>\n",
       "      <td>256</td>\n",
       "      <td>3</td>\n",
       "      <td>Net(\\n  (embedding): Embedding(32254, 128, pad...</td>\n",
       "      <td>(0.07026325794117104, 0.983366935483871, 3968)</td>\n",
       "    </tr>\n",
       "  </tbody>\n",
       "</table>\n",
       "</div>"
      ],
      "text/plain": [
       "   embedding_dim  linear_dim  kernel_size  \\\n",
       "0            128         256            3   \n",
       "1            128         256            2   \n",
       "2            128         256            5   \n",
       "3            128         256            7   \n",
       "4            128         128            3   \n",
       "5            128         256            3   \n",
       "6            128         512            3   \n",
       "7             64         256            3   \n",
       "8            256         256            3   \n",
       "\n",
       "                                                 net  \\\n",
       "0  Net(\\n  (embedding): Embedding(32254, 128, pad...   \n",
       "1  Net(\\n  (embedding): Embedding(32254, 128, pad...   \n",
       "2  Net(\\n  (embedding): Embedding(32254, 128, pad...   \n",
       "3  Net(\\n  (embedding): Embedding(32254, 128, pad...   \n",
       "4  Net(\\n  (embedding): Embedding(32254, 128, pad...   \n",
       "5  Net(\\n  (embedding): Embedding(32254, 128, pad...   \n",
       "6  Net(\\n  (embedding): Embedding(32254, 128, pad...   \n",
       "7  Net(\\n  (embedding): Embedding(32254, 128, pad...   \n",
       "8  Net(\\n  (embedding): Embedding(32254, 128, pad...   \n",
       "\n",
       "                                            result  \n",
       "0   (0.0724949883897939, 0.9816028225806451, 3968)  \n",
       "1   (0.07741514596367075, 0.983366935483871, 3968)  \n",
       "2  (0.07222905139168424, 0.9826108870967742, 3968)  \n",
       "3  (0.07564804668448144, 0.9831149193548387, 3968)  \n",
       "4  (0.06760406659375276, 0.9831149193548387, 3968)  \n",
       "5  (0.06324990069673907, 0.9838709677419355, 3968)  \n",
       "6  (0.06815058317395949, 0.9838709677419355, 3968)  \n",
       "7  (0.06880994937232425, 0.9848790322580645, 3968)  \n",
       "8   (0.07026325794117104, 0.983366935483871, 3968)  "
      ]
     },
     "execution_count": 91,
     "metadata": {},
     "output_type": "execute_result"
    }
   ],
   "source": [
    "for r in tqdm(results): # ошибка в train_and_test была исправлена позже, результат не возвращался\n",
    "    r['result'] = evaluate(r['net'], ds_val)\n",
    "pd.DataFrame(results)"
   ]
  },
  {
   "cell_type": "code",
   "execution_count": 92,
   "id": "1ff50be5",
   "metadata": {},
   "outputs": [
    {
     "name": "stdout",
     "output_type": "stream",
     "text": [
      "########################################################################\n",
      "embedding_dim = 64, linear_dim = 256, kernel_size = 2\n",
      "========================================================\n",
      "Число обучаемых параметров 5\n",
      " Оптимизатор:  Adam (\n",
      "Parameter Group 0\n",
      "    amsgrad: False\n",
      "    betas: (0.9, 0.999)\n",
      "    eps: 1e-08\n",
      "    lr: 0.01\n",
      "    weight_decay: 0\n",
      ")\n",
      " До обучения:\n",
      "    Валидационный набор: кросс-энтропия: 3.24, доля совпадений: 4.9%\n",
      "--------- Эпоха  0 / 10  ------------------\n"
     ]
    },
    {
     "data": {
      "application/vnd.jupyter.widget-view+json": {
       "model_id": "a5e98fdf357f47578a95221f39b09d1b",
       "version_major": 2,
       "version_minor": 0
      },
      "text/plain": [
       "  0%|          | 0/35 [00:00<?, ?it/s]"
      ]
     },
     "metadata": {},
     "output_type": "display_data"
    },
    {
     "name": "stdout",
     "output_type": "stream",
     "text": [
      "Выучено батчей :    35; loss: 2.374\n",
      "--------- Эпоха  1 / 10  ------------------\n"
     ]
    },
    {
     "data": {
      "application/vnd.jupyter.widget-view+json": {
       "model_id": "e59ffd006ddb401aaec59f7c88283ee7",
       "version_major": 2,
       "version_minor": 0
      },
      "text/plain": [
       "  0%|          | 0/35 [00:00<?, ?it/s]"
      ]
     },
     "metadata": {},
     "output_type": "display_data"
    },
    {
     "name": "stdout",
     "output_type": "stream",
     "text": [
      "Выучено батчей :    35; loss: 0.544\n",
      "--------- Эпоха  2 / 10  ------------------\n"
     ]
    },
    {
     "data": {
      "application/vnd.jupyter.widget-view+json": {
       "model_id": "09a39507019540e9a3a6da35b0a6ea71",
       "version_major": 2,
       "version_minor": 0
      },
      "text/plain": [
       "  0%|          | 0/35 [00:00<?, ?it/s]"
      ]
     },
     "metadata": {},
     "output_type": "display_data"
    },
    {
     "name": "stdout",
     "output_type": "stream",
     "text": [
      "Выучено батчей :    35; loss: 0.099\n",
      "--------- Эпоха  3 / 10  ------------------\n"
     ]
    },
    {
     "data": {
      "application/vnd.jupyter.widget-view+json": {
       "model_id": "96925374b64644f8bf73c09660222933",
       "version_major": 2,
       "version_minor": 0
      },
      "text/plain": [
       "  0%|          | 0/35 [00:00<?, ?it/s]"
      ]
     },
     "metadata": {},
     "output_type": "display_data"
    },
    {
     "name": "stdout",
     "output_type": "stream",
     "text": [
      "Выучено батчей :    35; loss: 0.026\n",
      "--------- Эпоха  4 / 10  ------------------\n"
     ]
    },
    {
     "data": {
      "application/vnd.jupyter.widget-view+json": {
       "model_id": "cb2960c7c24c4fdea3a58143c04c5191",
       "version_major": 2,
       "version_minor": 0
      },
      "text/plain": [
       "  0%|          | 0/35 [00:00<?, ?it/s]"
      ]
     },
     "metadata": {},
     "output_type": "display_data"
    },
    {
     "name": "stdout",
     "output_type": "stream",
     "text": [
      "Выучено батчей :    35; loss: 0.015\n",
      "--------- Эпоха  5 / 10  ------------------\n"
     ]
    },
    {
     "data": {
      "application/vnd.jupyter.widget-view+json": {
       "model_id": "74e45376d1b1444ba6e5bcbac6092ed3",
       "version_major": 2,
       "version_minor": 0
      },
      "text/plain": [
       "  0%|          | 0/35 [00:00<?, ?it/s]"
      ]
     },
     "metadata": {},
     "output_type": "display_data"
    },
    {
     "name": "stdout",
     "output_type": "stream",
     "text": [
      "Выучено батчей :    35; loss: 0.012\n",
      "--------- Эпоха  6 / 10  ------------------\n"
     ]
    },
    {
     "data": {
      "application/vnd.jupyter.widget-view+json": {
       "model_id": "0e3bb3e7f763426e809f90308bb77d18",
       "version_major": 2,
       "version_minor": 0
      },
      "text/plain": [
       "  0%|          | 0/35 [00:00<?, ?it/s]"
      ]
     },
     "metadata": {},
     "output_type": "display_data"
    },
    {
     "name": "stdout",
     "output_type": "stream",
     "text": [
      "Выучено батчей :    35; loss: 0.011\n",
      "--------- Эпоха  7 / 10  ------------------\n"
     ]
    },
    {
     "data": {
      "application/vnd.jupyter.widget-view+json": {
       "model_id": "a32a75b8bd4e432792ecfe98cabc1d73",
       "version_major": 2,
       "version_minor": 0
      },
      "text/plain": [
       "  0%|          | 0/35 [00:00<?, ?it/s]"
      ]
     },
     "metadata": {},
     "output_type": "display_data"
    },
    {
     "name": "stdout",
     "output_type": "stream",
     "text": [
      "Выучено батчей :    35; loss: 0.011\n",
      "--------- Эпоха  8 / 10  ------------------\n"
     ]
    },
    {
     "data": {
      "application/vnd.jupyter.widget-view+json": {
       "model_id": "f9d8a6882f8a4164a563fdab3dcbbacd",
       "version_major": 2,
       "version_minor": 0
      },
      "text/plain": [
       "  0%|          | 0/35 [00:00<?, ?it/s]"
      ]
     },
     "metadata": {},
     "output_type": "display_data"
    },
    {
     "name": "stdout",
     "output_type": "stream",
     "text": [
      "Выучено батчей :    35; loss: 0.011\n",
      "--------- Эпоха  9 / 10  ------------------\n"
     ]
    },
    {
     "data": {
      "application/vnd.jupyter.widget-view+json": {
       "model_id": "96b10af77d2e4c91944d31688e6af135",
       "version_major": 2,
       "version_minor": 0
      },
      "text/plain": [
       "  0%|          | 0/35 [00:00<?, ?it/s]"
      ]
     },
     "metadata": {},
     "output_type": "display_data"
    },
    {
     "name": "stdout",
     "output_type": "stream",
     "text": [
      "Выучено батчей :    35; loss: 0.011\n",
      " Обучение закончено!\n",
      " После обучения:\n",
      "    Валидационный набор: кросс-энтропия: 0.07, доля совпадений: 98.4%\n"
     ]
    }
   ],
   "source": [
    "create_and_test(embedding_dim=64, linear_dim=256, kernel_size=2)"
   ]
  },
  {
   "cell_type": "code",
   "execution_count": 93,
   "id": "bee96ccd",
   "metadata": {},
   "outputs": [
    {
     "name": "stdout",
     "output_type": "stream",
     "text": [
      "########################################################################\n",
      "embedding_dim = 64, linear_dim = 256, kernel_size = 7\n",
      "========================================================\n",
      "Число обучаемых параметров 5\n",
      " Оптимизатор:  Adam (\n",
      "Parameter Group 0\n",
      "    amsgrad: False\n",
      "    betas: (0.9, 0.999)\n",
      "    eps: 1e-08\n",
      "    lr: 0.01\n",
      "    weight_decay: 0\n",
      ")\n",
      " До обучения:\n",
      "    Валидационный набор: кросс-энтропия: 3.51, доля совпадений: 4.5%\n",
      "--------- Эпоха  0 / 10  ------------------\n"
     ]
    },
    {
     "data": {
      "application/vnd.jupyter.widget-view+json": {
       "model_id": "86a1b95552e64d91b7807344172c24e8",
       "version_major": 2,
       "version_minor": 0
      },
      "text/plain": [
       "  0%|          | 0/35 [00:00<?, ?it/s]"
      ]
     },
     "metadata": {},
     "output_type": "display_data"
    },
    {
     "name": "stdout",
     "output_type": "stream",
     "text": [
      "Выучено батчей :    35; loss: 2.430\n",
      "--------- Эпоха  1 / 10  ------------------\n"
     ]
    },
    {
     "data": {
      "application/vnd.jupyter.widget-view+json": {
       "model_id": "b3fb23b634744d2db31a47d72dde20cc",
       "version_major": 2,
       "version_minor": 0
      },
      "text/plain": [
       "  0%|          | 0/35 [00:00<?, ?it/s]"
      ]
     },
     "metadata": {},
     "output_type": "display_data"
    },
    {
     "name": "stdout",
     "output_type": "stream",
     "text": [
      "Выучено батчей :    35; loss: 0.547\n",
      "--------- Эпоха  2 / 10  ------------------\n"
     ]
    },
    {
     "data": {
      "application/vnd.jupyter.widget-view+json": {
       "model_id": "c62845874da94d389f8809bcc9e6ce22",
       "version_major": 2,
       "version_minor": 0
      },
      "text/plain": [
       "  0%|          | 0/35 [00:00<?, ?it/s]"
      ]
     },
     "metadata": {},
     "output_type": "display_data"
    },
    {
     "name": "stdout",
     "output_type": "stream",
     "text": [
      "Выучено батчей :    35; loss: 0.101\n",
      "--------- Эпоха  3 / 10  ------------------\n"
     ]
    },
    {
     "data": {
      "application/vnd.jupyter.widget-view+json": {
       "model_id": "9649d64fc19c4569822c06abc84d3740",
       "version_major": 2,
       "version_minor": 0
      },
      "text/plain": [
       "  0%|          | 0/35 [00:00<?, ?it/s]"
      ]
     },
     "metadata": {},
     "output_type": "display_data"
    },
    {
     "name": "stdout",
     "output_type": "stream",
     "text": [
      "Выучено батчей :    35; loss: 0.025\n",
      "--------- Эпоха  4 / 10  ------------------\n"
     ]
    },
    {
     "data": {
      "application/vnd.jupyter.widget-view+json": {
       "model_id": "194bfaa14ba2443da32ad9f815ff1b7d",
       "version_major": 2,
       "version_minor": 0
      },
      "text/plain": [
       "  0%|          | 0/35 [00:00<?, ?it/s]"
      ]
     },
     "metadata": {},
     "output_type": "display_data"
    },
    {
     "name": "stdout",
     "output_type": "stream",
     "text": [
      "Выучено батчей :    35; loss: 0.015\n",
      "--------- Эпоха  5 / 10  ------------------\n"
     ]
    },
    {
     "data": {
      "application/vnd.jupyter.widget-view+json": {
       "model_id": "784aab656fff4fbcb2dd69c855d32cad",
       "version_major": 2,
       "version_minor": 0
      },
      "text/plain": [
       "  0%|          | 0/35 [00:00<?, ?it/s]"
      ]
     },
     "metadata": {},
     "output_type": "display_data"
    },
    {
     "name": "stdout",
     "output_type": "stream",
     "text": [
      "Выучено батчей :    35; loss: 0.012\n",
      "--------- Эпоха  6 / 10  ------------------\n"
     ]
    },
    {
     "data": {
      "application/vnd.jupyter.widget-view+json": {
       "model_id": "ce0706ccdc514b85a259234469f9e662",
       "version_major": 2,
       "version_minor": 0
      },
      "text/plain": [
       "  0%|          | 0/35 [00:00<?, ?it/s]"
      ]
     },
     "metadata": {},
     "output_type": "display_data"
    },
    {
     "name": "stdout",
     "output_type": "stream",
     "text": [
      "Выучено батчей :    35; loss: 0.012\n",
      "--------- Эпоха  7 / 10  ------------------\n"
     ]
    },
    {
     "data": {
      "application/vnd.jupyter.widget-view+json": {
       "model_id": "23366318b47a492ea984983f480a28ff",
       "version_major": 2,
       "version_minor": 0
      },
      "text/plain": [
       "  0%|          | 0/35 [00:00<?, ?it/s]"
      ]
     },
     "metadata": {},
     "output_type": "display_data"
    },
    {
     "name": "stdout",
     "output_type": "stream",
     "text": [
      "Выучено батчей :    35; loss: 0.011\n",
      "--------- Эпоха  8 / 10  ------------------\n"
     ]
    },
    {
     "data": {
      "application/vnd.jupyter.widget-view+json": {
       "model_id": "57a43c12244f4152bb829261f891571b",
       "version_major": 2,
       "version_minor": 0
      },
      "text/plain": [
       "  0%|          | 0/35 [00:00<?, ?it/s]"
      ]
     },
     "metadata": {},
     "output_type": "display_data"
    },
    {
     "name": "stdout",
     "output_type": "stream",
     "text": [
      "Выучено батчей :    35; loss: 0.011\n",
      "--------- Эпоха  9 / 10  ------------------\n"
     ]
    },
    {
     "data": {
      "application/vnd.jupyter.widget-view+json": {
       "model_id": "f59b89d276ae4ad99d88f9cb10a93765",
       "version_major": 2,
       "version_minor": 0
      },
      "text/plain": [
       "  0%|          | 0/35 [00:00<?, ?it/s]"
      ]
     },
     "metadata": {},
     "output_type": "display_data"
    },
    {
     "name": "stdout",
     "output_type": "stream",
     "text": [
      "Выучено батчей :    35; loss: 0.011\n",
      " Обучение закончено!\n",
      " После обучения:\n",
      "    Валидационный набор: кросс-энтропия: 0.08, доля совпадений: 98.3%\n"
     ]
    }
   ],
   "source": [
    "create_and_test(embedding_dim=64, linear_dim=256, kernel_size=7)"
   ]
  },
  {
   "cell_type": "code",
   "execution_count": 95,
   "id": "0f76dcd0",
   "metadata": {},
   "outputs": [
    {
     "data": {
      "text/html": [
       "<div>\n",
       "<style scoped>\n",
       "    .dataframe tbody tr th:only-of-type {\n",
       "        vertical-align: middle;\n",
       "    }\n",
       "\n",
       "    .dataframe tbody tr th {\n",
       "        vertical-align: top;\n",
       "    }\n",
       "\n",
       "    .dataframe thead th {\n",
       "        text-align: right;\n",
       "    }\n",
       "</style>\n",
       "<table border=\"1\" class=\"dataframe\">\n",
       "  <thead>\n",
       "    <tr style=\"text-align: right;\">\n",
       "      <th></th>\n",
       "      <th>embedding_dim</th>\n",
       "      <th>linear_dim</th>\n",
       "      <th>kernel_size</th>\n",
       "      <th>net</th>\n",
       "      <th>result</th>\n",
       "      <th>loss</th>\n",
       "      <th>matches</th>\n",
       "    </tr>\n",
       "  </thead>\n",
       "  <tbody>\n",
       "    <tr>\n",
       "      <th>0</th>\n",
       "      <td>128</td>\n",
       "      <td>256</td>\n",
       "      <td>3</td>\n",
       "      <td>Net(\\n  (embedding): Embedding(32254, 128, pad...</td>\n",
       "      <td>(0.0724949883897939, 0.9816028225806451, 3968)</td>\n",
       "      <td>0.072495</td>\n",
       "      <td>0.981603</td>\n",
       "    </tr>\n",
       "    <tr>\n",
       "      <th>1</th>\n",
       "      <td>128</td>\n",
       "      <td>256</td>\n",
       "      <td>2</td>\n",
       "      <td>Net(\\n  (embedding): Embedding(32254, 128, pad...</td>\n",
       "      <td>(0.07741514596367075, 0.983366935483871, 3968)</td>\n",
       "      <td>0.077415</td>\n",
       "      <td>0.983367</td>\n",
       "    </tr>\n",
       "    <tr>\n",
       "      <th>2</th>\n",
       "      <td>128</td>\n",
       "      <td>256</td>\n",
       "      <td>5</td>\n",
       "      <td>Net(\\n  (embedding): Embedding(32254, 128, pad...</td>\n",
       "      <td>(0.07222905139168424, 0.9826108870967742, 3968)</td>\n",
       "      <td>0.072229</td>\n",
       "      <td>0.982611</td>\n",
       "    </tr>\n",
       "    <tr>\n",
       "      <th>3</th>\n",
       "      <td>128</td>\n",
       "      <td>256</td>\n",
       "      <td>7</td>\n",
       "      <td>Net(\\n  (embedding): Embedding(32254, 128, pad...</td>\n",
       "      <td>(0.07564804668448144, 0.9831149193548387, 3968)</td>\n",
       "      <td>0.075648</td>\n",
       "      <td>0.983115</td>\n",
       "    </tr>\n",
       "    <tr>\n",
       "      <th>4</th>\n",
       "      <td>128</td>\n",
       "      <td>128</td>\n",
       "      <td>3</td>\n",
       "      <td>Net(\\n  (embedding): Embedding(32254, 128, pad...</td>\n",
       "      <td>(0.06760406659375276, 0.9831149193548387, 3968)</td>\n",
       "      <td>0.067604</td>\n",
       "      <td>0.983115</td>\n",
       "    </tr>\n",
       "    <tr>\n",
       "      <th>5</th>\n",
       "      <td>128</td>\n",
       "      <td>256</td>\n",
       "      <td>3</td>\n",
       "      <td>Net(\\n  (embedding): Embedding(32254, 128, pad...</td>\n",
       "      <td>(0.06324990069673907, 0.9838709677419355, 3968)</td>\n",
       "      <td>0.063250</td>\n",
       "      <td>0.983871</td>\n",
       "    </tr>\n",
       "    <tr>\n",
       "      <th>6</th>\n",
       "      <td>128</td>\n",
       "      <td>512</td>\n",
       "      <td>3</td>\n",
       "      <td>Net(\\n  (embedding): Embedding(32254, 128, pad...</td>\n",
       "      <td>(0.06815058317395949, 0.9838709677419355, 3968)</td>\n",
       "      <td>0.068151</td>\n",
       "      <td>0.983871</td>\n",
       "    </tr>\n",
       "    <tr>\n",
       "      <th>7</th>\n",
       "      <td>64</td>\n",
       "      <td>256</td>\n",
       "      <td>3</td>\n",
       "      <td>Net(\\n  (embedding): Embedding(32254, 128, pad...</td>\n",
       "      <td>(0.06880994937232425, 0.9848790322580645, 3968)</td>\n",
       "      <td>0.068810</td>\n",
       "      <td>0.984879</td>\n",
       "    </tr>\n",
       "    <tr>\n",
       "      <th>8</th>\n",
       "      <td>256</td>\n",
       "      <td>256</td>\n",
       "      <td>3</td>\n",
       "      <td>Net(\\n  (embedding): Embedding(32254, 128, pad...</td>\n",
       "      <td>(0.07026325794117104, 0.983366935483871, 3968)</td>\n",
       "      <td>0.070263</td>\n",
       "      <td>0.983367</td>\n",
       "    </tr>\n",
       "    <tr>\n",
       "      <th>9</th>\n",
       "      <td>64</td>\n",
       "      <td>256</td>\n",
       "      <td>2</td>\n",
       "      <td>Net(\\n  (embedding): Embedding(32254, 128, pad...</td>\n",
       "      <td>(0.07365286535012626, 0.9836189516129032, 3968)</td>\n",
       "      <td>0.073653</td>\n",
       "      <td>0.983619</td>\n",
       "    </tr>\n",
       "    <tr>\n",
       "      <th>10</th>\n",
       "      <td>64</td>\n",
       "      <td>256</td>\n",
       "      <td>7</td>\n",
       "      <td>Net(\\n  (embedding): Embedding(32254, 128, pad...</td>\n",
       "      <td>(0.07720225379471818, 0.9826108870967742, 3968)</td>\n",
       "      <td>0.077202</td>\n",
       "      <td>0.982611</td>\n",
       "    </tr>\n",
       "  </tbody>\n",
       "</table>\n",
       "</div>"
      ],
      "text/plain": [
       "    embedding_dim  linear_dim  kernel_size  \\\n",
       "0             128         256            3   \n",
       "1             128         256            2   \n",
       "2             128         256            5   \n",
       "3             128         256            7   \n",
       "4             128         128            3   \n",
       "5             128         256            3   \n",
       "6             128         512            3   \n",
       "7              64         256            3   \n",
       "8             256         256            3   \n",
       "9              64         256            2   \n",
       "10             64         256            7   \n",
       "\n",
       "                                                  net  \\\n",
       "0   Net(\\n  (embedding): Embedding(32254, 128, pad...   \n",
       "1   Net(\\n  (embedding): Embedding(32254, 128, pad...   \n",
       "2   Net(\\n  (embedding): Embedding(32254, 128, pad...   \n",
       "3   Net(\\n  (embedding): Embedding(32254, 128, pad...   \n",
       "4   Net(\\n  (embedding): Embedding(32254, 128, pad...   \n",
       "5   Net(\\n  (embedding): Embedding(32254, 128, pad...   \n",
       "6   Net(\\n  (embedding): Embedding(32254, 128, pad...   \n",
       "7   Net(\\n  (embedding): Embedding(32254, 128, pad...   \n",
       "8   Net(\\n  (embedding): Embedding(32254, 128, pad...   \n",
       "9   Net(\\n  (embedding): Embedding(32254, 128, pad...   \n",
       "10  Net(\\n  (embedding): Embedding(32254, 128, pad...   \n",
       "\n",
       "                                             result      loss   matches  \n",
       "0    (0.0724949883897939, 0.9816028225806451, 3968)  0.072495  0.981603  \n",
       "1    (0.07741514596367075, 0.983366935483871, 3968)  0.077415  0.983367  \n",
       "2   (0.07222905139168424, 0.9826108870967742, 3968)  0.072229  0.982611  \n",
       "3   (0.07564804668448144, 0.9831149193548387, 3968)  0.075648  0.983115  \n",
       "4   (0.06760406659375276, 0.9831149193548387, 3968)  0.067604  0.983115  \n",
       "5   (0.06324990069673907, 0.9838709677419355, 3968)  0.063250  0.983871  \n",
       "6   (0.06815058317395949, 0.9838709677419355, 3968)  0.068151  0.983871  \n",
       "7   (0.06880994937232425, 0.9848790322580645, 3968)  0.068810  0.984879  \n",
       "8    (0.07026325794117104, 0.983366935483871, 3968)  0.070263  0.983367  \n",
       "9   (0.07365286535012626, 0.9836189516129032, 3968)  0.073653  0.983619  \n",
       "10  (0.07720225379471818, 0.9826108870967742, 3968)  0.077202  0.982611  "
      ]
     },
     "execution_count": 95,
     "metadata": {},
     "output_type": "execute_result"
    }
   ],
   "source": [
    "df = pd.DataFrame(results)\n",
    "df['loss'] = df['result'].apply(lambda r: r[0])\n",
    "df['matches'] = df['result'].apply(lambda r: r[1])\n",
    "df"
   ]
  },
  {
   "cell_type": "code",
   "execution_count": 97,
   "id": "f447d90c",
   "metadata": {},
   "outputs": [
    {
     "data": {
      "text/plain": [
       "embedding_dim                                                   64\n",
       "linear_dim                                                     256\n",
       "kernel_size                                                      3\n",
       "net              Net(\\n  (embedding): Embedding(32254, 128, pad...\n",
       "result             (0.06880994937232425, 0.9848790322580645, 3968)\n",
       "loss                                                       0.06881\n",
       "matches                                                   0.984879\n",
       "Name: 7, dtype: object"
      ]
     },
     "execution_count": 97,
     "metadata": {},
     "output_type": "execute_result"
    }
   ],
   "source": [
    "df.iloc[df['matches'].idxmax()] "
   ]
  }
 ],
 "metadata": {
  "kernelspec": {
   "display_name": "Python 3 (ipykernel)",
   "language": "python",
   "name": "python3"
  },
  "language_info": {
   "codemirror_mode": {
    "name": "ipython",
    "version": 3
   },
   "file_extension": ".py",
   "mimetype": "text/x-python",
   "name": "python",
   "nbconvert_exporter": "python",
   "pygments_lexer": "ipython3",
   "version": "3.8.7"
  }
 },
 "nbformat": 4,
 "nbformat_minor": 5
}
