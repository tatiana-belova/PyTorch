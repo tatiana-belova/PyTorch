{
 "cells": [
  {
   "cell_type": "code",
   "execution_count": 1,
   "metadata": {
    "cell_id": "9d5bef46-cdc7-48d0-a266-bf6b57a5c0b9",
    "deepnote_cell_type": "code"
   },
   "outputs": [],
   "source": [
    "import torch"
   ]
  },
  {
   "cell_type": "code",
   "execution_count": 2,
   "metadata": {
    "cell_id": "00001-5460a7c7-c049-440a-8dc4-983470714360",
    "deepnote_cell_type": "code"
   },
   "outputs": [
    {
     "data": {
      "text/plain": [
       "tensor([[[ 1.2044,  1.7967, -1.2150,  1.2451,  0.1350],\n",
       "         [-0.2994, -0.3727,  0.7825, -0.3566,  1.7261],\n",
       "         [-0.7643,  0.3722, -0.8795,  0.3615, -0.9138],\n",
       "         [ 0.7694,  1.2116, -0.0799,  0.7327,  0.4049]],\n",
       "\n",
       "        [[ 0.9452,  1.5816, -0.1140,  0.8002, -0.7846],\n",
       "         [-0.2205, -2.1651, -0.3225,  0.4212, -1.4004],\n",
       "         [-2.6371, -0.8968,  1.0360, -0.6443, -0.1215],\n",
       "         [-0.1604,  0.0032, -0.7857, -0.6442,  0.8506]],\n",
       "\n",
       "        [[-0.0931, -0.2343,  1.6653, -0.7760,  0.5168],\n",
       "         [ 0.1450,  1.2377,  0.8391, -0.2881, -0.5452],\n",
       "         [ 0.0223, -0.9441, -0.2421,  0.2283,  0.5509],\n",
       "         [-0.8421, -0.7019, -0.0198, -0.1935,  0.1056]]])"
      ]
     },
     "execution_count": 2,
     "metadata": {},
     "output_type": "execute_result"
    }
   ],
   "source": [
    "# Создайте случайный FloatTensor размера 3x4x5\n",
    "\n",
    "x = torch.randn((3, 4, 5), dtype=torch.float32)\n",
    "x"
   ]
  },
  {
   "cell_type": "code",
   "execution_count": 3,
   "metadata": {
    "cell_id": "00002-03806e80-99e5-4430-9a91-2bfbeef15658",
    "deepnote_cell_type": "code"
   },
   "outputs": [
    {
     "data": {
      "text/plain": [
       "torch.Size([3, 4, 5])"
      ]
     },
     "execution_count": 3,
     "metadata": {},
     "output_type": "execute_result"
    }
   ],
   "source": [
    "# Выведите его форму (shape)\n",
    "x.shape"
   ]
  },
  {
   "cell_type": "code",
   "execution_count": 6,
   "metadata": {
    "cell_id": "00003-e86da4b3-873c-4d39-b7bf-447a5258b1bb",
    "deepnote_cell_type": "code"
   },
   "outputs": [
    {
     "data": {
      "text/plain": [
       "torch.Size([6, 10])"
      ]
     },
     "execution_count": 6,
     "metadata": {},
     "output_type": "execute_result"
    }
   ],
   "source": [
    "# Приведите его к форме 6 X 10\n",
    "x.resize_(6, 10)\n",
    "x.shape"
   ]
  },
  {
   "cell_type": "code",
   "execution_count": 9,
   "metadata": {
    "cell_id": "00004-8aac032a-61aa-41fa-9ac8-d453c8abb9e4",
    "deepnote_cell_type": "code"
   },
   "outputs": [
    {
     "data": {
      "text/plain": [
       "tensor([[[ 1.2044,  7.1869, -2.4300,  2.4903,  0.1350],\n",
       "         [-0.2994, -1.4908,  1.5651, -0.7133,  1.7261],\n",
       "         [-0.7643,  1.4889, -1.7590,  0.7231, -0.9138],\n",
       "         [ 0.7694,  4.8463, -0.1597,  1.4655,  0.4049]],\n",
       "\n",
       "        [[ 0.9452,  6.3265, -0.2280,  1.6005, -0.7846],\n",
       "         [-0.2205, -8.6602, -0.6450,  0.8424, -1.4004],\n",
       "         [-2.6371, -3.5872,  2.0720, -1.2885, -0.1215],\n",
       "         [-0.1604,  0.0127, -1.5715, -1.2885,  0.8506]],\n",
       "\n",
       "        [[-0.0931, -0.9372,  3.3307, -1.5519,  0.5168],\n",
       "         [ 0.1450,  4.9508,  1.6782, -0.5763, -0.5452],\n",
       "         [ 0.0223, -3.7763, -0.4841,  0.4566,  0.5509],\n",
       "         [-0.8421, -2.8077, -0.0397, -0.3869,  0.1056]]])"
      ]
     },
     "execution_count": 9,
     "metadata": {},
     "output_type": "execute_result"
    }
   ],
   "source": [
    "# Умножьте его на вектор [1, 4, 2, 2, 1] поэлементно\n",
    "x.resize_(3, 4, 5)\n",
    "x * torch.FloatTensor([1, 4, 2, 2, 1])"
   ]
  },
  {
   "cell_type": "code",
   "execution_count": 10,
   "metadata": {
    "cell_id": "00005-a11a801e-0705-483a-b2e9-a9851f33ef93",
    "deepnote_cell_type": "code"
   },
   "outputs": [
    {
     "data": {
      "text/plain": [
       "torch.Size([6, 6])"
      ]
     },
     "execution_count": 10,
     "metadata": {},
     "output_type": "execute_result"
    }
   ],
   "source": [
    "# Умножьте тензор матрично на себя, чтобы результат был размерности 6x6\n",
    "x.resize_(6, 10)\n",
    "torch.matmul(x, x.transpose(0,1)).size()"
   ]
  },
  {
   "cell_type": "code",
   "execution_count": 5,
   "metadata": {
    "cell_id": "00006-c6ef8962-3ba6-4b07-bf8d-c127d3caec68",
    "deepnote_cell_type": "code"
   },
   "outputs": [
    {
     "name": "stdout",
     "output_type": "stream",
     "text": [
      "y_x=tensor([3.])\n",
      "y_z=tensor([1.])\n",
      "y_t=tensor([-75.])\n"
     ]
    }
   ],
   "source": [
    "# Посчитайте производную функции y = x**3 + z - 75t в точке (1, 0.5, 2)\n",
    "from torch.autograd import Variable\n",
    "\n",
    "x = Variable(torch.FloatTensor([1.0]), requires_grad = True)\n",
    "z = Variable(torch.FloatTensor([0.5]), requires_grad = True)\n",
    "t = Variable(torch.FloatTensor([2.0]), requires_grad = True)\n",
    "\n",
    "y = x**3 + z - 75*t\n",
    "\n",
    "y.backward()\n",
    "\n",
    "print(f'y_x={x.grad}')\n",
    "print(f'y_z={z.grad}')\n",
    "print(f'y_t={t.grad}')"
   ]
  },
  {
   "cell_type": "code",
   "execution_count": 12,
   "metadata": {
    "cell_id": "00007-70abfc39-9ce3-4cc2-9ee1-a0f741bf9509",
    "deepnote_cell_type": "code"
   },
   "outputs": [
    {
     "data": {
      "text/plain": [
       "tensor([[1., 1., 1., 1., 1., 1.],\n",
       "        [1., 1., 1., 1., 1., 1.],\n",
       "        [1., 1., 1., 1., 1., 1.],\n",
       "        [1., 1., 1., 1., 1., 1.],\n",
       "        [1., 1., 1., 1., 1., 1.]])"
      ]
     },
     "execution_count": 12,
     "metadata": {},
     "output_type": "execute_result"
    }
   ],
   "source": [
    "# Создайте единичный тензор размера 5x6\n",
    "x = torch.ones(5,6)\n",
    "x"
   ]
  },
  {
   "cell_type": "code",
   "execution_count": 13,
   "metadata": {
    "cell_id": "00008-f2b644e5-ff13-4e05-8041-109e5d38f912",
    "deepnote_cell_type": "code"
   },
   "outputs": [
    {
     "data": {
      "text/plain": [
       "array([[1., 1., 1., 1., 1., 1.],\n",
       "       [1., 1., 1., 1., 1., 1.],\n",
       "       [1., 1., 1., 1., 1., 1.],\n",
       "       [1., 1., 1., 1., 1., 1.],\n",
       "       [1., 1., 1., 1., 1., 1.]], dtype=float32)"
      ]
     },
     "execution_count": 13,
     "metadata": {},
     "output_type": "execute_result"
    }
   ],
   "source": [
    "# Переведите его в формат numpy\n",
    "x.numpy()"
   ]
  },
  {
   "cell_type": "code",
   "execution_count": 2,
   "metadata": {},
   "outputs": [],
   "source": [
    "from torch import nn \n",
    "from torch import optim"
   ]
  },
  {
   "cell_type": "code",
   "execution_count": 6,
   "metadata": {
    "cell_id": "00009-d80c7a59-df96-4234-a6c8-caa8053bacd1",
    "deepnote_cell_type": "code"
   },
   "outputs": [],
   "source": [
    "# возьмите функцию y = x**w1 - 2 * x**2 + 5\n",
    "# Посчитайте \n",
    "\n",
    "w1 = Variable(torch.Tensor([0.1,0.1]), requires_grad = True)\n",
    "x = Variable(torch.Tensor([2,2]), requires_grad = False)\n",
    "y = Variable(torch.Tensor([2,2]), requires_grad = False)"
   ]
  },
  {
   "cell_type": "code",
   "execution_count": 7,
   "metadata": {},
   "outputs": [],
   "source": [
    "criterion = nn.MSELoss()\n",
    "optimizer = torch.optim.SGD([w1], lr=0.01)"
   ]
  },
  {
   "cell_type": "code",
   "execution_count": 9,
   "metadata": {},
   "outputs": [
    {
     "name": "stdout",
     "output_type": "stream",
     "text": [
      "loss:\t 15.259385108947754\n",
      "w1:\t tensor([0.1588, 0.1588])\n"
     ]
    }
   ],
   "source": [
    "func = x**w1 - 2 * x**2 + 5\n",
    "\n",
    "optimizer.zero_grad()\n",
    "pred = func\n",
    "loss = criterion(pred, y)\n",
    "\n",
    "loss.backward()     \n",
    "optimizer.step()  \n",
    "\n",
    "print(f'loss:\\t {loss.item()}')\n",
    "print(f'w1:\\t {w1.data}')"
   ]
  }
 ],
 "metadata": {
  "deepnote": {},
  "deepnote_execution_queue": [],
  "deepnote_notebook_id": "4a43e61f-3df5-4a01-ae45-d58694dcef8c",
  "kernelspec": {
   "display_name": "Python 3 (ipykernel)",
   "language": "python",
   "name": "python3"
  },
  "language_info": {
   "codemirror_mode": {
    "name": "ipython",
    "version": 3
   },
   "file_extension": ".py",
   "mimetype": "text/x-python",
   "name": "python",
   "nbconvert_exporter": "python",
   "pygments_lexer": "ipython3",
   "version": "3.8.7"
  }
 },
 "nbformat": 4,
 "nbformat_minor": 2
}
